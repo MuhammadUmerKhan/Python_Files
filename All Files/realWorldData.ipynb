{
 "cells": [
  {
   "cell_type": "code",
   "execution_count": null,
   "metadata": {},
   "outputs": [
    {
     "ename": "",
     "evalue": "",
     "output_type": "error",
     "traceback": [
      "\u001b[1;31mThe kernel failed to start as a dll could not be loaded.\n",
      "\u001b[1;31mClick <a href='https://aka.ms/kernelFailuresDllLoad'>here</a> for more info."
     ]
    }
   ],
   "source": [
    "import csv,sqlite3"
   ]
  },
  {
   "cell_type": "code",
   "execution_count": null,
   "metadata": {},
   "outputs": [],
   "source": []
  },
  {
   "cell_type": "code",
   "execution_count": 1,
   "metadata": {},
   "outputs": [],
   "source": [
    "import pandas as pd"
   ]
  },
  {
   "cell_type": "code",
   "execution_count": 2,
   "metadata": {},
   "outputs": [],
   "source": [
    "import csv"
   ]
  },
  {
   "cell_type": "code",
   "execution_count": 26,
   "metadata": {},
   "outputs": [],
   "source": [
    "import sqlite3 as sql"
   ]
  },
  {
   "cell_type": "code",
   "execution_count": 27,
   "metadata": {},
   "outputs": [],
   "source": [
    "con = sql.connect(\"RealWorldData.db\")\n",
    "cur = con.cursor()"
   ]
  },
  {
   "cell_type": "code",
   "execution_count": 6,
   "metadata": {},
   "outputs": [],
   "source": [
    "\n",
    "!pip install -q pandas==1.1.5"
   ]
  },
  {
   "cell_type": "code",
   "execution_count": 9,
   "metadata": {},
   "outputs": [
    {
     "name": "stdout",
     "output_type": "stream",
     "text": [
      "Requirement already satisfied: sql in c:\\users\\aa digital\\anaconda3\\lib\\site-packages (2022.4.0)\n"
     ]
    }
   ],
   "source": [
    "!pip install sql"
   ]
  },
  {
   "cell_type": "code",
   "execution_count": 12,
   "metadata": {},
   "outputs": [
    {
     "name": "stdout",
     "output_type": "stream",
     "text": [
      "Collecting sql_magic\n",
      "  Downloading sql_magic-0.0.4-py3-none-any.whl (10 kB)\n",
      "Requirement already satisfied: jupyter in c:\\users\\aa digital\\anaconda3\\lib\\site-packages (from sql_magic) (1.0.0)\n",
      "Collecting findspark\n",
      "  Downloading findspark-2.0.1-py2.py3-none-any.whl (4.4 kB)\n",
      "Requirement already satisfied: ipython in c:\\users\\aa digital\\anaconda3\\lib\\site-packages (from sql_magic) (7.31.1)\n",
      "Requirement already satisfied: traitlets in c:\\users\\aa digital\\anaconda3\\lib\\site-packages (from sql_magic) (5.1.1)\n",
      "Collecting sqlparse\n",
      "  Using cached sqlparse-0.4.4-py3-none-any.whl (41 kB)\n",
      "Requirement already satisfied: pandas in c:\\users\\aa digital\\anaconda3\\lib\\site-packages (from sql_magic) (1.1.5)\n",
      "Requirement already satisfied: setuptools>=18.5 in c:\\users\\aa digital\\anaconda3\\lib\\site-packages (from ipython->sql_magic) (63.4.1)\n",
      "Requirement already satisfied: prompt-toolkit!=3.0.0,!=3.0.1,<3.1.0,>=2.0.0 in c:\\users\\aa digital\\anaconda3\\lib\\site-packages (from ipython->sql_magic) (3.0.20)\n",
      "Requirement already satisfied: backcall in c:\\users\\aa digital\\anaconda3\\lib\\site-packages (from ipython->sql_magic) (0.2.0)\n",
      "Requirement already satisfied: jedi>=0.16 in c:\\users\\aa digital\\anaconda3\\lib\\site-packages (from ipython->sql_magic) (0.18.1)\n",
      "Requirement already satisfied: matplotlib-inline in c:\\users\\aa digital\\anaconda3\\lib\\site-packages (from ipython->sql_magic) (0.1.6)\n",
      "Requirement already satisfied: decorator in c:\\users\\aa digital\\anaconda3\\lib\\site-packages (from ipython->sql_magic) (5.1.1)\n",
      "Requirement already satisfied: colorama in c:\\users\\aa digital\\anaconda3\\lib\\site-packages (from ipython->sql_magic) (0.4.5)\n",
      "Requirement already satisfied: pickleshare in c:\\users\\aa digital\\anaconda3\\lib\\site-packages (from ipython->sql_magic) (0.7.5)\n",
      "Requirement already satisfied: pygments in c:\\users\\aa digital\\anaconda3\\lib\\site-packages (from ipython->sql_magic) (2.11.2)\n",
      "Requirement already satisfied: qtconsole in c:\\users\\aa digital\\anaconda3\\lib\\site-packages (from jupyter->sql_magic) (5.2.2)\n",
      "Requirement already satisfied: ipykernel in c:\\users\\aa digital\\anaconda3\\lib\\site-packages (from jupyter->sql_magic) (6.15.2)\n",
      "Requirement already satisfied: ipywidgets in c:\\users\\aa digital\\anaconda3\\lib\\site-packages (from jupyter->sql_magic) (7.6.5)\n",
      "Requirement already satisfied: notebook in c:\\users\\aa digital\\anaconda3\\lib\\site-packages (from jupyter->sql_magic) (6.4.12)\n",
      "Requirement already satisfied: nbconvert in c:\\users\\aa digital\\anaconda3\\lib\\site-packages (from jupyter->sql_magic) (6.4.4)\n",
      "Requirement already satisfied: jupyter-console in c:\\users\\aa digital\\anaconda3\\lib\\site-packages (from jupyter->sql_magic) (6.4.3)\n",
      "Requirement already satisfied: numpy>=1.15.4 in c:\\users\\aa digital\\anaconda3\\lib\\site-packages (from pandas->sql_magic) (1.21.5)\n",
      "Requirement already satisfied: pytz>=2017.2 in c:\\users\\aa digital\\anaconda3\\lib\\site-packages (from pandas->sql_magic) (2022.1)\n",
      "Requirement already satisfied: python-dateutil>=2.7.3 in c:\\users\\aa digital\\anaconda3\\lib\\site-packages (from pandas->sql_magic) (2.8.2)\n",
      "Requirement already satisfied: parso<0.9.0,>=0.8.0 in c:\\users\\aa digital\\anaconda3\\lib\\site-packages (from jedi>=0.16->ipython->sql_magic) (0.8.3)\n",
      "Requirement already satisfied: wcwidth in c:\\users\\aa digital\\anaconda3\\lib\\site-packages (from prompt-toolkit!=3.0.0,!=3.0.1,<3.1.0,>=2.0.0->ipython->sql_magic) (0.2.5)\n",
      "Requirement already satisfied: six>=1.5 in c:\\users\\aa digital\\anaconda3\\lib\\site-packages (from python-dateutil>=2.7.3->pandas->sql_magic) (1.16.0)\n",
      "Requirement already satisfied: packaging in c:\\users\\aa digital\\anaconda3\\lib\\site-packages (from ipykernel->jupyter->sql_magic) (21.3)\n",
      "Requirement already satisfied: tornado>=6.1 in c:\\users\\aa digital\\anaconda3\\lib\\site-packages (from ipykernel->jupyter->sql_magic) (6.1)\n",
      "Requirement already satisfied: psutil in c:\\users\\aa digital\\anaconda3\\lib\\site-packages (from ipykernel->jupyter->sql_magic) (5.9.0)\n",
      "Requirement already satisfied: pyzmq>=17 in c:\\users\\aa digital\\anaconda3\\lib\\site-packages (from ipykernel->jupyter->sql_magic) (23.2.0)\n",
      "Requirement already satisfied: debugpy>=1.0 in c:\\users\\aa digital\\anaconda3\\lib\\site-packages (from ipykernel->jupyter->sql_magic) (1.5.1)\n",
      "Requirement already satisfied: nest-asyncio in c:\\users\\aa digital\\anaconda3\\lib\\site-packages (from ipykernel->jupyter->sql_magic) (1.5.5)\n",
      "Requirement already satisfied: jupyter-client>=6.1.12 in c:\\users\\aa digital\\anaconda3\\lib\\site-packages (from ipykernel->jupyter->sql_magic) (7.3.4)\n",
      "Requirement already satisfied: widgetsnbextension~=3.5.0 in c:\\users\\aa digital\\anaconda3\\lib\\site-packages (from ipywidgets->jupyter->sql_magic) (3.5.2)\n",
      "Requirement already satisfied: ipython-genutils~=0.2.0 in c:\\users\\aa digital\\anaconda3\\lib\\site-packages (from ipywidgets->jupyter->sql_magic) (0.2.0)\n",
      "Requirement already satisfied: nbformat>=4.2.0 in c:\\users\\aa digital\\anaconda3\\lib\\site-packages (from ipywidgets->jupyter->sql_magic) (5.5.0)\n",
      "Requirement already satisfied: jupyterlab-widgets>=1.0.0 in c:\\users\\aa digital\\anaconda3\\lib\\site-packages (from ipywidgets->jupyter->sql_magic) (1.0.0)\n",
      "Requirement already satisfied: mistune<2,>=0.8.1 in c:\\users\\aa digital\\anaconda3\\lib\\site-packages (from nbconvert->jupyter->sql_magic) (0.8.4)\n",
      "Requirement already satisfied: jupyterlab-pygments in c:\\users\\aa digital\\anaconda3\\lib\\site-packages (from nbconvert->jupyter->sql_magic) (0.1.2)\n",
      "Requirement already satisfied: bleach in c:\\users\\aa digital\\anaconda3\\lib\\site-packages (from nbconvert->jupyter->sql_magic) (4.1.0)\n",
      "Requirement already satisfied: jupyter-core in c:\\users\\aa digital\\anaconda3\\lib\\site-packages (from nbconvert->jupyter->sql_magic) (4.11.1)\n",
      "Requirement already satisfied: jinja2>=2.4 in c:\\users\\aa digital\\anaconda3\\lib\\site-packages (from nbconvert->jupyter->sql_magic) (2.11.3)\n",
      "Requirement already satisfied: entrypoints>=0.2.2 in c:\\users\\aa digital\\anaconda3\\lib\\site-packages (from nbconvert->jupyter->sql_magic) (0.4)\n",
      "Requirement already satisfied: beautifulsoup4 in c:\\users\\aa digital\\anaconda3\\lib\\site-packages (from nbconvert->jupyter->sql_magic) (4.11.1)\n",
      "Requirement already satisfied: nbclient<0.6.0,>=0.5.0 in c:\\users\\aa digital\\anaconda3\\lib\\site-packages (from nbconvert->jupyter->sql_magic) (0.5.13)\n",
      "Requirement already satisfied: testpath in c:\\users\\aa digital\\anaconda3\\lib\\site-packages (from nbconvert->jupyter->sql_magic) (0.6.0)\n",
      "Requirement already satisfied: defusedxml in c:\\users\\aa digital\\anaconda3\\lib\\site-packages (from nbconvert->jupyter->sql_magic) (0.7.1)\n",
      "Requirement already satisfied: pandocfilters>=1.4.1 in c:\\users\\aa digital\\anaconda3\\lib\\site-packages (from nbconvert->jupyter->sql_magic) (1.5.0)\n",
      "Requirement already satisfied: terminado>=0.8.3 in c:\\users\\aa digital\\anaconda3\\lib\\site-packages (from notebook->jupyter->sql_magic) (0.13.1)\n",
      "Requirement already satisfied: Send2Trash>=1.8.0 in c:\\users\\aa digital\\anaconda3\\lib\\site-packages (from notebook->jupyter->sql_magic) (1.8.0)\n",
      "Requirement already satisfied: argon2-cffi in c:\\users\\aa digital\\anaconda3\\lib\\site-packages (from notebook->jupyter->sql_magic) (21.3.0)\n",
      "Requirement already satisfied: prometheus-client in c:\\users\\aa digital\\anaconda3\\lib\\site-packages (from notebook->jupyter->sql_magic) (0.14.1)\n",
      "Requirement already satisfied: qtpy in c:\\users\\aa digital\\anaconda3\\lib\\site-packages (from qtconsole->jupyter->sql_magic) (2.2.0)\n",
      "Requirement already satisfied: MarkupSafe>=0.23 in c:\\users\\aa digital\\anaconda3\\lib\\site-packages (from jinja2>=2.4->nbconvert->jupyter->sql_magic) (2.0.1)\n",
      "Requirement already satisfied: pywin32>=1.0 in c:\\users\\aa digital\\anaconda3\\lib\\site-packages (from jupyter-core->nbconvert->jupyter->sql_magic) (302)\n",
      "Requirement already satisfied: jsonschema>=2.6 in c:\\users\\aa digital\\anaconda3\\lib\\site-packages (from nbformat>=4.2.0->ipywidgets->jupyter->sql_magic) (4.16.0)\n",
      "Requirement already satisfied: fastjsonschema in c:\\users\\aa digital\\anaconda3\\lib\\site-packages (from nbformat>=4.2.0->ipywidgets->jupyter->sql_magic) (2.16.2)\n",
      "Requirement already satisfied: pywinpty>=1.1.0 in c:\\users\\aa digital\\anaconda3\\lib\\site-packages (from terminado>=0.8.3->notebook->jupyter->sql_magic) (2.0.2)\n",
      "Requirement already satisfied: argon2-cffi-bindings in c:\\users\\aa digital\\anaconda3\\lib\\site-packages (from argon2-cffi->notebook->jupyter->sql_magic) (21.2.0)\n",
      "Requirement already satisfied: soupsieve>1.2 in c:\\users\\aa digital\\anaconda3\\lib\\site-packages (from beautifulsoup4->nbconvert->jupyter->sql_magic) (2.3.1)\n",
      "Requirement already satisfied: webencodings in c:\\users\\aa digital\\anaconda3\\lib\\site-packages (from bleach->nbconvert->jupyter->sql_magic) (0.5.1)\n",
      "Requirement already satisfied: pyparsing!=3.0.5,>=2.0.2 in c:\\users\\aa digital\\anaconda3\\lib\\site-packages (from packaging->ipykernel->jupyter->sql_magic) (3.0.9)\n",
      "Requirement already satisfied: pyrsistent!=0.17.0,!=0.17.1,!=0.17.2,>=0.14.0 in c:\\users\\aa digital\\anaconda3\\lib\\site-packages (from jsonschema>=2.6->nbformat>=4.2.0->ipywidgets->jupyter->sql_magic) (0.18.0)\n",
      "Requirement already satisfied: attrs>=17.4.0 in c:\\users\\aa digital\\anaconda3\\lib\\site-packages (from jsonschema>=2.6->nbformat>=4.2.0->ipywidgets->jupyter->sql_magic) (21.4.0)\n",
      "Requirement already satisfied: cffi>=1.0.1 in c:\\users\\aa digital\\anaconda3\\lib\\site-packages (from argon2-cffi-bindings->argon2-cffi->notebook->jupyter->sql_magic) (1.15.1)\n",
      "Requirement already satisfied: pycparser in c:\\users\\aa digital\\anaconda3\\lib\\site-packages (from cffi>=1.0.1->argon2-cffi-bindings->argon2-cffi->notebook->jupyter->sql_magic) (2.21)\n",
      "Installing collected packages: findspark, sqlparse, sql_magic\n",
      "Successfully installed findspark-2.0.1 sql_magic-0.0.4 sqlparse-0.4.4\n",
      "Note: you may need to restart the kernel to use updated packages.\n"
     ]
    }
   ],
   "source": [
    "!pip install sql_magic\n"
   ]
  },
  {
   "cell_type": "code",
   "execution_count": 13,
   "metadata": {},
   "outputs": [
    {
     "data": {
      "application/javascript": "\n    require(['notebook/js/codecell'], function(codecell) {\n      // https://github.com/jupyter/notebook/issues/2453\n      codecell.CodeCell.options_default.highlight_modes['magic_text/x-sql'] = {'reg':[/^%read_sql/, /.*=\\s*%read_sql/,\n                                                                                      /^%%read_sql/]};\n      Jupyter.notebook.events.one('kernel_ready.Kernel', function(){\n          console.log('BBBBB');\n          Jupyter.notebook.get_cells().map(function(cell){\n              if (cell.cell_type == 'code'){ cell.auto_highlight(); } }) ;\n      });\n    });\n    "
     },
     "metadata": {},
     "output_type": "display_data"
    }
   ],
   "source": [
    "%load_ext sql_magic\n"
   ]
  },
  {
   "cell_type": "code",
   "execution_count": 14,
   "metadata": {},
   "outputs": [
    {
     "name": "stdout",
     "output_type": "stream",
     "text": [
      "Requirement already satisfied: sqlalchemy in c:\\users\\aa digital\\anaconda3\\lib\\site-packages (2.0.21)\n",
      "Requirement already satisfied: greenlet!=0.4.17 in c:\\users\\aa digital\\anaconda3\\lib\\site-packages (from sqlalchemy) (2.0.2)\n",
      "Requirement already satisfied: typing-extensions>=4.2.0 in c:\\users\\aa digital\\anaconda3\\lib\\site-packages (from sqlalchemy) (4.8.0)\n",
      "Note: you may need to restart the kernel to use updated packages.\n"
     ]
    }
   ],
   "source": [
    "!pip install sqlalchemy\n"
   ]
  },
  {
   "cell_type": "code",
   "execution_count": 28,
   "metadata": {},
   "outputs": [
    {
     "name": "stdout",
     "output_type": "stream",
     "text": [
      "Requirement already satisfied: ipython-sql in c:\\users\\aa digital\\anaconda3\\lib\\site-packages (0.5.0)\n",
      "Requirement already satisfied: sqlalchemy>=2.0 in c:\\users\\aa digital\\anaconda3\\lib\\site-packages (from ipython-sql) (2.0.21)\n",
      "Requirement already satisfied: ipython-genutils in c:\\users\\aa digital\\anaconda3\\lib\\site-packages (from ipython-sql) (0.2.0)\n",
      "Requirement already satisfied: ipython in c:\\users\\aa digital\\anaconda3\\lib\\site-packages (from ipython-sql) (7.31.1)\n",
      "Requirement already satisfied: prettytable in c:\\users\\aa digital\\anaconda3\\lib\\site-packages (from ipython-sql) (3.9.0)\n",
      "Requirement already satisfied: six in c:\\users\\aa digital\\anaconda3\\lib\\site-packages (from ipython-sql) (1.16.0)\n",
      "Requirement already satisfied: sqlparse in c:\\users\\aa digital\\anaconda3\\lib\\site-packages (from ipython-sql) (0.4.4)\n",
      "Requirement already satisfied: greenlet!=0.4.17 in c:\\users\\aa digital\\anaconda3\\lib\\site-packages (from sqlalchemy>=2.0->ipython-sql) (2.0.2)\n",
      "Requirement already satisfied: typing-extensions>=4.2.0 in c:\\users\\aa digital\\anaconda3\\lib\\site-packages (from sqlalchemy>=2.0->ipython-sql) (4.8.0)\n",
      "Requirement already satisfied: decorator in c:\\users\\aa digital\\anaconda3\\lib\\site-packages (from ipython->ipython-sql) (5.1.1)\n",
      "Requirement already satisfied: backcall in c:\\users\\aa digital\\anaconda3\\lib\\site-packages (from ipython->ipython-sql) (0.2.0)\n",
      "Requirement already satisfied: traitlets>=4.2 in c:\\users\\aa digital\\anaconda3\\lib\\site-packages (from ipython->ipython-sql) (5.1.1)\n",
      "Requirement already satisfied: jedi>=0.16 in c:\\users\\aa digital\\anaconda3\\lib\\site-packages (from ipython->ipython-sql) (0.18.1)\n",
      "Requirement already satisfied: prompt-toolkit!=3.0.0,!=3.0.1,<3.1.0,>=2.0.0 in c:\\users\\aa digital\\anaconda3\\lib\\site-packages (from ipython->ipython-sql) (3.0.20)\n",
      "Requirement already satisfied: pickleshare in c:\\users\\aa digital\\anaconda3\\lib\\site-packages (from ipython->ipython-sql) (0.7.5)\n",
      "Requirement already satisfied: setuptools>=18.5 in c:\\users\\aa digital\\anaconda3\\lib\\site-packages (from ipython->ipython-sql) (63.4.1)\n",
      "Requirement already satisfied: matplotlib-inline in c:\\users\\aa digital\\anaconda3\\lib\\site-packages (from ipython->ipython-sql) (0.1.6)\n",
      "Requirement already satisfied: pygments in c:\\users\\aa digital\\anaconda3\\lib\\site-packages (from ipython->ipython-sql) (2.11.2)\n",
      "Requirement already satisfied: colorama in c:\\users\\aa digital\\anaconda3\\lib\\site-packages (from ipython->ipython-sql) (0.4.5)\n",
      "Requirement already satisfied: wcwidth in c:\\users\\aa digital\\anaconda3\\lib\\site-packages (from prettytable->ipython-sql) (0.2.5)\n",
      "Requirement already satisfied: parso<0.9.0,>=0.8.0 in c:\\users\\aa digital\\anaconda3\\lib\\site-packages (from jedi>=0.16->ipython->ipython-sql) (0.8.3)\n"
     ]
    }
   ],
   "source": [
    "!pip install ipython-sql"
   ]
  },
  {
   "cell_type": "code",
   "execution_count": 34,
   "metadata": {},
   "outputs": [
    {
     "name": "stdout",
     "output_type": "stream",
     "text": [
      "Requirement already satisfied: ipython-sql in c:\\users\\aa digital\\anaconda3\\lib\\site-packages (0.5.0)\n",
      "Requirement already satisfied: six in c:\\users\\aa digital\\anaconda3\\lib\\site-packages (from ipython-sql) (1.16.0)\n",
      "Requirement already satisfied: ipython in c:\\users\\aa digital\\anaconda3\\lib\\site-packages (from ipython-sql) (7.31.1)\n",
      "Requirement already satisfied: sqlparse in c:\\users\\aa digital\\anaconda3\\lib\\site-packages (from ipython-sql) (0.4.4)\n",
      "Requirement already satisfied: ipython-genutils in c:\\users\\aa digital\\anaconda3\\lib\\site-packages (from ipython-sql) (0.2.0)\n",
      "Requirement already satisfied: sqlalchemy>=2.0 in c:\\users\\aa digital\\anaconda3\\lib\\site-packages (from ipython-sql) (2.0.21)\n",
      "Requirement already satisfied: prettytable in c:\\users\\aa digital\\anaconda3\\lib\\site-packages (from ipython-sql) (3.9.0)\n",
      "Requirement already satisfied: typing-extensions>=4.2.0 in c:\\users\\aa digital\\anaconda3\\lib\\site-packages (from sqlalchemy>=2.0->ipython-sql) (4.8.0)\n",
      "Requirement already satisfied: greenlet!=0.4.17 in c:\\users\\aa digital\\anaconda3\\lib\\site-packages (from sqlalchemy>=2.0->ipython-sql) (2.0.2)\n",
      "Requirement already satisfied: colorama in c:\\users\\aa digital\\anaconda3\\lib\\site-packages (from ipython->ipython-sql) (0.4.5)\n",
      "Requirement already satisfied: traitlets>=4.2 in c:\\users\\aa digital\\anaconda3\\lib\\site-packages (from ipython->ipython-sql) (5.1.1)\n",
      "Requirement already satisfied: pickleshare in c:\\users\\aa digital\\anaconda3\\lib\\site-packages (from ipython->ipython-sql) (0.7.5)\n",
      "Requirement already satisfied: jedi>=0.16 in c:\\users\\aa digital\\anaconda3\\lib\\site-packages (from ipython->ipython-sql) (0.18.1)\n",
      "Requirement already satisfied: prompt-toolkit!=3.0.0,!=3.0.1,<3.1.0,>=2.0.0 in c:\\users\\aa digital\\anaconda3\\lib\\site-packages (from ipython->ipython-sql) (3.0.20)\n",
      "Requirement already satisfied: matplotlib-inline in c:\\users\\aa digital\\anaconda3\\lib\\site-packages (from ipython->ipython-sql) (0.1.6)\n",
      "Requirement already satisfied: backcall in c:\\users\\aa digital\\anaconda3\\lib\\site-packages (from ipython->ipython-sql) (0.2.0)\n",
      "Requirement already satisfied: setuptools>=18.5 in c:\\users\\aa digital\\anaconda3\\lib\\site-packages (from ipython->ipython-sql) (63.4.1)\n",
      "Requirement already satisfied: decorator in c:\\users\\aa digital\\anaconda3\\lib\\site-packages (from ipython->ipython-sql) (5.1.1)\n",
      "Requirement already satisfied: pygments in c:\\users\\aa digital\\anaconda3\\lib\\site-packages (from ipython->ipython-sql) (2.11.2)\n",
      "Requirement already satisfied: wcwidth in c:\\users\\aa digital\\anaconda3\\lib\\site-packages (from prettytable->ipython-sql) (0.2.5)\n",
      "Requirement already satisfied: parso<0.9.0,>=0.8.0 in c:\\users\\aa digital\\anaconda3\\lib\\site-packages (from jedi>=0.16->ipython->ipython-sql) (0.8.3)\n",
      "The sql module is not an IPython extension.\n"
     ]
    },
    {
     "name": "stderr",
     "output_type": "stream",
     "text": [
      "UsageError: Line magic function `%sql` not found.\n"
     ]
    }
   ],
   "source": [
    "!pip install ipython-sql\n",
    "%load_ext sql\n",
    "%sql sqlite:///RealWorldData.db"
   ]
  },
  {
   "cell_type": "code",
   "execution_count": 1,
   "metadata": {},
   "outputs": [],
   "source": [
    "!pip uninstall ipython-sql\n",
    "\n"
   ]
  },
  {
   "cell_type": "code",
   "execution_count": 31,
   "metadata": {},
   "outputs": [],
   "source": [
    "df = pd.read_csv(\"https://cf-courses-data.s3.us.cloud-object-storage.appdomain.cloud/IBMDeveloperSkillsNetwork-DB0201EN-SkillsNetwork/labs/FinalModule_Coursera_V5/data/ChicagoCensusData.csv\")"
   ]
  },
  {
   "cell_type": "code",
   "execution_count": 32,
   "metadata": {},
   "outputs": [
    {
     "name": "stderr",
     "output_type": "stream",
     "text": [
      "UsageError: Line magic function `%sql` not found.\n"
     ]
    }
   ],
   "source": [
    "%sql SELECT count(name) FROM PRAGMA_TABLE_INFO('CHICAGO_PUBLIC_SCHOOLS_DATA');"
   ]
  },
  {
   "cell_type": "code",
   "execution_count": null,
   "metadata": {},
   "outputs": [],
   "source": []
  },
  {
   "cell_type": "code",
   "execution_count": null,
   "metadata": {},
   "outputs": [],
   "source": []
  }
 ],
 "metadata": {
  "kernelspec": {
   "display_name": "base",
   "language": "python",
   "name": "python3"
  },
  "language_info": {
   "codemirror_mode": {
    "name": "ipython",
    "version": 3
   },
   "file_extension": ".py",
   "mimetype": "text/x-python",
   "name": "python",
   "nbconvert_exporter": "python",
   "pygments_lexer": "ipython3",
   "version": "3.11.6"
  }
 },
 "nbformat": 4,
 "nbformat_minor": 2
}
