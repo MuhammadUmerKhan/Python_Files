{
 "cells": [
  {
   "cell_type": "markdown",
   "id": "9cbdb005",
   "metadata": {},
   "source": [
    "# 1. Setup and Get Data"
   ]
  },
  {
   "cell_type": "markdown",
   "id": "be5d5f2f",
   "metadata": {},
   "source": [
    "## 1.1 Install Dependencies and Setup"
   ]
  },
  {
   "cell_type": "code",
   "execution_count": 1,
   "metadata": {},
   "outputs": [
    {
     "name": "stdout",
     "output_type": "stream",
     "text": [
      "Collecting labelme\n",
      "  Using cached labelme-5.4.1-py3-none-any.whl\n",
      "Requirement already satisfied: tensorflow in /media/muhammad-umer-khan/0E1083D91083C665/DATA SCIENCE/Python_Files/.venv/lib/python3.12/site-packages (2.16.1)\n",
      "Requirement already satisfied: opencv-python in /media/muhammad-umer-khan/0E1083D91083C665/DATA SCIENCE/Python_Files/.venv/lib/python3.12/site-packages (4.9.0.80)\n",
      "Requirement already satisfied: matplotlib in /media/muhammad-umer-khan/0E1083D91083C665/DATA SCIENCE/Python_Files/.venv/lib/python3.12/site-packages (3.8.4)\n",
      "Collecting albumentations\n",
      "  Using cached albumentations-1.4.6-py3-none-any.whl.metadata (37 kB)\n",
      "Collecting gdown (from labelme)\n",
      "  Using cached gdown-5.1.0-py3-none-any.whl.metadata (5.7 kB)\n",
      "Collecting imgviz>=1.7.5 (from labelme)\n",
      "  Using cached imgviz-1.7.5-py3-none-any.whl\n",
      "Collecting natsort>=7.1.0 (from labelme)\n",
      "  Using cached natsort-8.4.0-py3-none-any.whl.metadata (21 kB)\n",
      "Requirement already satisfied: numpy in /media/muhammad-umer-khan/0E1083D91083C665/DATA SCIENCE/Python_Files/.venv/lib/python3.12/site-packages (from labelme) (1.26.4)\n",
      "Collecting onnxruntime!=1.16.0,>=1.14.1 (from labelme)\n",
      "  Using cached onnxruntime-1.17.3-cp312-cp312-manylinux_2_27_x86_64.manylinux_2_28_x86_64.whl.metadata (4.4 kB)\n",
      "Requirement already satisfied: Pillow>=2.8 in /media/muhammad-umer-khan/0E1083D91083C665/DATA SCIENCE/Python_Files/.venv/lib/python3.12/site-packages (from labelme) (10.3.0)\n",
      "Collecting PyYAML (from labelme)\n",
      "  Downloading PyYAML-6.0.1-cp312-cp312-manylinux_2_17_x86_64.manylinux2014_x86_64.whl.metadata (2.1 kB)\n",
      "Collecting qtpy!=1.11.2 (from labelme)\n",
      "  Using cached QtPy-2.4.1-py3-none-any.whl.metadata (12 kB)\n",
      "Collecting scikit-image (from labelme)\n",
      "  Using cached scikit_image-0.23.2-cp312-cp312-manylinux_2_17_x86_64.manylinux2014_x86_64.whl.metadata (14 kB)\n",
      "Requirement already satisfied: termcolor in /media/muhammad-umer-khan/0E1083D91083C665/DATA SCIENCE/Python_Files/.venv/lib/python3.12/site-packages (from labelme) (2.4.0)\n",
      "Collecting PyQt5!=5.15.3,!=5.15.4 (from labelme)\n",
      "  Using cached PyQt5-5.15.10-cp37-abi3-manylinux_2_17_x86_64.whl.metadata (2.1 kB)\n",
      "Requirement already satisfied: absl-py>=1.0.0 in /media/muhammad-umer-khan/0E1083D91083C665/DATA SCIENCE/Python_Files/.venv/lib/python3.12/site-packages (from tensorflow) (2.1.0)\n",
      "Requirement already satisfied: astunparse>=1.6.0 in /media/muhammad-umer-khan/0E1083D91083C665/DATA SCIENCE/Python_Files/.venv/lib/python3.12/site-packages (from tensorflow) (1.6.3)\n",
      "Requirement already satisfied: flatbuffers>=23.5.26 in /media/muhammad-umer-khan/0E1083D91083C665/DATA SCIENCE/Python_Files/.venv/lib/python3.12/site-packages (from tensorflow) (24.3.25)\n",
      "Requirement already satisfied: gast!=0.5.0,!=0.5.1,!=0.5.2,>=0.2.1 in /media/muhammad-umer-khan/0E1083D91083C665/DATA SCIENCE/Python_Files/.venv/lib/python3.12/site-packages (from tensorflow) (0.5.4)\n",
      "Requirement already satisfied: google-pasta>=0.1.1 in /media/muhammad-umer-khan/0E1083D91083C665/DATA SCIENCE/Python_Files/.venv/lib/python3.12/site-packages (from tensorflow) (0.2.0)\n",
      "Requirement already satisfied: h5py>=3.10.0 in /media/muhammad-umer-khan/0E1083D91083C665/DATA SCIENCE/Python_Files/.venv/lib/python3.12/site-packages (from tensorflow) (3.11.0)\n",
      "Requirement already satisfied: libclang>=13.0.0 in /media/muhammad-umer-khan/0E1083D91083C665/DATA SCIENCE/Python_Files/.venv/lib/python3.12/site-packages (from tensorflow) (18.1.1)\n",
      "Requirement already satisfied: ml-dtypes~=0.3.1 in /media/muhammad-umer-khan/0E1083D91083C665/DATA SCIENCE/Python_Files/.venv/lib/python3.12/site-packages (from tensorflow) (0.3.2)\n",
      "Requirement already satisfied: opt-einsum>=2.3.2 in /media/muhammad-umer-khan/0E1083D91083C665/DATA SCIENCE/Python_Files/.venv/lib/python3.12/site-packages (from tensorflow) (3.3.0)\n",
      "Requirement already satisfied: packaging in /media/muhammad-umer-khan/0E1083D91083C665/DATA SCIENCE/Python_Files/.venv/lib/python3.12/site-packages (from tensorflow) (24.0)\n",
      "Requirement already satisfied: protobuf!=4.21.0,!=4.21.1,!=4.21.2,!=4.21.3,!=4.21.4,!=4.21.5,<5.0.0dev,>=3.20.3 in /media/muhammad-umer-khan/0E1083D91083C665/DATA SCIENCE/Python_Files/.venv/lib/python3.12/site-packages (from tensorflow) (4.25.3)\n",
      "Requirement already satisfied: requests<3,>=2.21.0 in /media/muhammad-umer-khan/0E1083D91083C665/DATA SCIENCE/Python_Files/.venv/lib/python3.12/site-packages (from tensorflow) (2.31.0)\n",
      "Requirement already satisfied: setuptools in /media/muhammad-umer-khan/0E1083D91083C665/DATA SCIENCE/Python_Files/.venv/lib/python3.12/site-packages (from tensorflow) (69.5.1)\n",
      "Requirement already satisfied: six>=1.12.0 in /media/muhammad-umer-khan/0E1083D91083C665/DATA SCIENCE/Python_Files/.venv/lib/python3.12/site-packages (from tensorflow) (1.16.0)\n",
      "Requirement already satisfied: typing-extensions>=3.6.6 in /media/muhammad-umer-khan/0E1083D91083C665/DATA SCIENCE/Python_Files/.venv/lib/python3.12/site-packages (from tensorflow) (4.11.0)\n",
      "Requirement already satisfied: wrapt>=1.11.0 in /media/muhammad-umer-khan/0E1083D91083C665/DATA SCIENCE/Python_Files/.venv/lib/python3.12/site-packages (from tensorflow) (1.16.0)\n",
      "Requirement already satisfied: grpcio<2.0,>=1.24.3 in /media/muhammad-umer-khan/0E1083D91083C665/DATA SCIENCE/Python_Files/.venv/lib/python3.12/site-packages (from tensorflow) (1.63.0)\n",
      "Requirement already satisfied: tensorboard<2.17,>=2.16 in /media/muhammad-umer-khan/0E1083D91083C665/DATA SCIENCE/Python_Files/.venv/lib/python3.12/site-packages (from tensorflow) (2.16.2)\n",
      "Requirement already satisfied: keras>=3.0.0 in /media/muhammad-umer-khan/0E1083D91083C665/DATA SCIENCE/Python_Files/.venv/lib/python3.12/site-packages (from tensorflow) (3.3.3)\n",
      "Requirement already satisfied: contourpy>=1.0.1 in /media/muhammad-umer-khan/0E1083D91083C665/DATA SCIENCE/Python_Files/.venv/lib/python3.12/site-packages (from matplotlib) (1.2.1)\n",
      "Requirement already satisfied: cycler>=0.10 in /media/muhammad-umer-khan/0E1083D91083C665/DATA SCIENCE/Python_Files/.venv/lib/python3.12/site-packages (from matplotlib) (0.12.1)\n",
      "Requirement already satisfied: fonttools>=4.22.0 in /media/muhammad-umer-khan/0E1083D91083C665/DATA SCIENCE/Python_Files/.venv/lib/python3.12/site-packages (from matplotlib) (4.51.0)\n",
      "Requirement already satisfied: kiwisolver>=1.3.1 in /media/muhammad-umer-khan/0E1083D91083C665/DATA SCIENCE/Python_Files/.venv/lib/python3.12/site-packages (from matplotlib) (1.4.5)\n",
      "Requirement already satisfied: pyparsing>=2.3.1 in /media/muhammad-umer-khan/0E1083D91083C665/DATA SCIENCE/Python_Files/.venv/lib/python3.12/site-packages (from matplotlib) (3.1.2)\n",
      "Requirement already satisfied: python-dateutil>=2.7 in /media/muhammad-umer-khan/0E1083D91083C665/DATA SCIENCE/Python_Files/.venv/lib/python3.12/site-packages (from matplotlib) (2.9.0.post0)\n",
      "Requirement already satisfied: scipy>=1.10.0 in /media/muhammad-umer-khan/0E1083D91083C665/DATA SCIENCE/Python_Files/.venv/lib/python3.12/site-packages (from albumentations) (1.13.0)\n",
      "Requirement already satisfied: scikit-learn>=1.3.2 in /media/muhammad-umer-khan/0E1083D91083C665/DATA SCIENCE/Python_Files/.venv/lib/python3.12/site-packages (from albumentations) (1.4.2)\n",
      "Collecting pydantic>=2.7.0 (from albumentations)\n",
      "  Using cached pydantic-2.7.1-py3-none-any.whl.metadata (107 kB)\n",
      "Collecting opencv-python-headless>=4.9.0 (from albumentations)\n",
      "  Using cached opencv_python_headless-4.9.0.80-cp37-abi3-manylinux_2_17_x86_64.manylinux2014_x86_64.whl.metadata (20 kB)\n",
      "Requirement already satisfied: wheel<1.0,>=0.23.0 in /media/muhammad-umer-khan/0E1083D91083C665/DATA SCIENCE/Python_Files/.venv/lib/python3.12/site-packages (from astunparse>=1.6.0->tensorflow) (0.43.0)\n",
      "Requirement already satisfied: rich in /media/muhammad-umer-khan/0E1083D91083C665/DATA SCIENCE/Python_Files/.venv/lib/python3.12/site-packages (from keras>=3.0.0->tensorflow) (13.7.1)\n",
      "Requirement already satisfied: namex in /media/muhammad-umer-khan/0E1083D91083C665/DATA SCIENCE/Python_Files/.venv/lib/python3.12/site-packages (from keras>=3.0.0->tensorflow) (0.0.8)\n",
      "Requirement already satisfied: optree in /media/muhammad-umer-khan/0E1083D91083C665/DATA SCIENCE/Python_Files/.venv/lib/python3.12/site-packages (from keras>=3.0.0->tensorflow) (0.11.0)\n",
      "Collecting coloredlogs (from onnxruntime!=1.16.0,>=1.14.1->labelme)\n",
      "  Using cached coloredlogs-15.0.1-py2.py3-none-any.whl.metadata (12 kB)\n",
      "Collecting sympy (from onnxruntime!=1.16.0,>=1.14.1->labelme)\n",
      "  Using cached sympy-1.12-py3-none-any.whl.metadata (12 kB)\n",
      "Collecting annotated-types>=0.4.0 (from pydantic>=2.7.0->albumentations)\n",
      "  Using cached annotated_types-0.6.0-py3-none-any.whl.metadata (12 kB)\n",
      "Collecting pydantic-core==2.18.2 (from pydantic>=2.7.0->albumentations)\n",
      "  Using cached pydantic_core-2.18.2-cp312-cp312-manylinux_2_17_x86_64.manylinux2014_x86_64.whl.metadata (6.5 kB)\n",
      "Collecting PyQt5-sip<13,>=12.13 (from PyQt5!=5.15.3,!=5.15.4->labelme)\n",
      "  Using cached PyQt5_sip-12.13.0-cp312-cp312-manylinux_2_5_x86_64.manylinux1_x86_64.whl.metadata (504 bytes)\n",
      "Collecting PyQt5-Qt5>=5.15.2 (from PyQt5!=5.15.3,!=5.15.4->labelme)\n",
      "  Using cached PyQt5_Qt5-5.15.2-py3-none-manylinux2014_x86_64.whl.metadata (535 bytes)\n",
      "Requirement already satisfied: charset-normalizer<4,>=2 in /media/muhammad-umer-khan/0E1083D91083C665/DATA SCIENCE/Python_Files/.venv/lib/python3.12/site-packages (from requests<3,>=2.21.0->tensorflow) (3.3.2)\n",
      "Requirement already satisfied: idna<4,>=2.5 in /media/muhammad-umer-khan/0E1083D91083C665/DATA SCIENCE/Python_Files/.venv/lib/python3.12/site-packages (from requests<3,>=2.21.0->tensorflow) (3.7)\n",
      "Requirement already satisfied: urllib3<3,>=1.21.1 in /media/muhammad-umer-khan/0E1083D91083C665/DATA SCIENCE/Python_Files/.venv/lib/python3.12/site-packages (from requests<3,>=2.21.0->tensorflow) (2.2.1)\n",
      "Requirement already satisfied: certifi>=2017.4.17 in /media/muhammad-umer-khan/0E1083D91083C665/DATA SCIENCE/Python_Files/.venv/lib/python3.12/site-packages (from requests<3,>=2.21.0->tensorflow) (2024.2.2)\n",
      "Collecting networkx>=2.8 (from scikit-image->labelme)\n",
      "  Using cached networkx-3.3-py3-none-any.whl.metadata (5.1 kB)\n",
      "Collecting imageio>=2.33 (from scikit-image->labelme)\n",
      "  Using cached imageio-2.34.1-py3-none-any.whl.metadata (4.9 kB)\n",
      "Collecting tifffile>=2022.8.12 (from scikit-image->labelme)\n",
      "  Using cached tifffile-2024.5.3-py3-none-any.whl.metadata (31 kB)\n",
      "Collecting lazy-loader>=0.4 (from scikit-image->labelme)\n",
      "  Using cached lazy_loader-0.4-py3-none-any.whl.metadata (7.6 kB)\n",
      "Requirement already satisfied: joblib>=1.2.0 in /media/muhammad-umer-khan/0E1083D91083C665/DATA SCIENCE/Python_Files/.venv/lib/python3.12/site-packages (from scikit-learn>=1.3.2->albumentations) (1.4.0)\n",
      "Requirement already satisfied: threadpoolctl>=2.0.0 in /media/muhammad-umer-khan/0E1083D91083C665/DATA SCIENCE/Python_Files/.venv/lib/python3.12/site-packages (from scikit-learn>=1.3.2->albumentations) (3.5.0)\n",
      "Requirement already satisfied: markdown>=2.6.8 in /media/muhammad-umer-khan/0E1083D91083C665/DATA SCIENCE/Python_Files/.venv/lib/python3.12/site-packages (from tensorboard<2.17,>=2.16->tensorflow) (3.6)\n",
      "Requirement already satisfied: tensorboard-data-server<0.8.0,>=0.7.0 in /media/muhammad-umer-khan/0E1083D91083C665/DATA SCIENCE/Python_Files/.venv/lib/python3.12/site-packages (from tensorboard<2.17,>=2.16->tensorflow) (0.7.2)\n",
      "Requirement already satisfied: werkzeug>=1.0.1 in /media/muhammad-umer-khan/0E1083D91083C665/DATA SCIENCE/Python_Files/.venv/lib/python3.12/site-packages (from tensorboard<2.17,>=2.16->tensorflow) (3.0.2)\n",
      "Collecting beautifulsoup4 (from gdown->labelme)\n",
      "  Using cached beautifulsoup4-4.12.3-py3-none-any.whl.metadata (3.8 kB)\n",
      "Collecting filelock (from gdown->labelme)\n",
      "  Using cached filelock-3.14.0-py3-none-any.whl.metadata (2.8 kB)\n",
      "Requirement already satisfied: tqdm in /media/muhammad-umer-khan/0E1083D91083C665/DATA SCIENCE/Python_Files/.venv/lib/python3.12/site-packages (from gdown->labelme) (4.66.2)\n",
      "Requirement already satisfied: MarkupSafe>=2.1.1 in /media/muhammad-umer-khan/0E1083D91083C665/DATA SCIENCE/Python_Files/.venv/lib/python3.12/site-packages (from werkzeug>=1.0.1->tensorboard<2.17,>=2.16->tensorflow) (2.1.5)\n",
      "Collecting soupsieve>1.2 (from beautifulsoup4->gdown->labelme)\n",
      "  Using cached soupsieve-2.5-py3-none-any.whl.metadata (4.7 kB)\n",
      "Collecting humanfriendly>=9.1 (from coloredlogs->onnxruntime!=1.16.0,>=1.14.1->labelme)\n",
      "  Using cached humanfriendly-10.0-py2.py3-none-any.whl.metadata (9.2 kB)\n",
      "Collecting PySocks!=1.5.7,>=1.5.6 (from requests[socks]->gdown->labelme)\n",
      "  Using cached PySocks-1.7.1-py3-none-any.whl.metadata (13 kB)\n",
      "Requirement already satisfied: markdown-it-py>=2.2.0 in /media/muhammad-umer-khan/0E1083D91083C665/DATA SCIENCE/Python_Files/.venv/lib/python3.12/site-packages (from rich->keras>=3.0.0->tensorflow) (3.0.0)\n",
      "Requirement already satisfied: pygments<3.0.0,>=2.13.0 in /media/muhammad-umer-khan/0E1083D91083C665/DATA SCIENCE/Python_Files/.venv/lib/python3.12/site-packages (from rich->keras>=3.0.0->tensorflow) (2.17.2)\n",
      "Collecting mpmath>=0.19 (from sympy->onnxruntime!=1.16.0,>=1.14.1->labelme)\n",
      "  Using cached mpmath-1.3.0-py3-none-any.whl.metadata (8.6 kB)\n",
      "Requirement already satisfied: mdurl~=0.1 in /media/muhammad-umer-khan/0E1083D91083C665/DATA SCIENCE/Python_Files/.venv/lib/python3.12/site-packages (from markdown-it-py>=2.2.0->rich->keras>=3.0.0->tensorflow) (0.1.2)\n",
      "Using cached albumentations-1.4.6-py3-none-any.whl (153 kB)\n",
      "Using cached natsort-8.4.0-py3-none-any.whl (38 kB)\n",
      "Using cached onnxruntime-1.17.3-cp312-cp312-manylinux_2_27_x86_64.manylinux_2_28_x86_64.whl (6.8 MB)\n",
      "Using cached opencv_python_headless-4.9.0.80-cp37-abi3-manylinux_2_17_x86_64.manylinux2014_x86_64.whl (49.6 MB)\n",
      "Using cached pydantic-2.7.1-py3-none-any.whl (409 kB)\n",
      "Using cached pydantic_core-2.18.2-cp312-cp312-manylinux_2_17_x86_64.manylinux2014_x86_64.whl (2.1 MB)\n",
      "Using cached PyQt5-5.15.10-cp37-abi3-manylinux_2_17_x86_64.whl (8.2 MB)\n",
      "Using cached QtPy-2.4.1-py3-none-any.whl (93 kB)\n",
      "Using cached scikit_image-0.23.2-cp312-cp312-manylinux_2_17_x86_64.manylinux2014_x86_64.whl (14.9 MB)\n",
      "Using cached gdown-5.1.0-py3-none-any.whl (17 kB)\n",
      "Downloading PyYAML-6.0.1-cp312-cp312-manylinux_2_17_x86_64.manylinux2014_x86_64.whl (724 kB)\n",
      "\u001b[2K   \u001b[90m━━━━━━━━━━━━━━━━━━━━━━━━━━━━━━━━━━━━━━━━\u001b[0m \u001b[32m725.0/725.0 kB\u001b[0m \u001b[31m4.2 MB/s\u001b[0m eta \u001b[36m0:00:00\u001b[0m00:01\u001b[0m00:01\u001b[0m\n",
      "\u001b[?25hUsing cached annotated_types-0.6.0-py3-none-any.whl (12 kB)\n",
      "Using cached imageio-2.34.1-py3-none-any.whl (313 kB)\n",
      "Using cached lazy_loader-0.4-py3-none-any.whl (12 kB)\n",
      "Using cached networkx-3.3-py3-none-any.whl (1.7 MB)\n",
      "Using cached PyQt5_Qt5-5.15.2-py3-none-manylinux2014_x86_64.whl (59.9 MB)\n",
      "Using cached PyQt5_sip-12.13.0-cp312-cp312-manylinux_2_5_x86_64.manylinux1_x86_64.whl (360 kB)\n",
      "Using cached tifffile-2024.5.3-py3-none-any.whl (225 kB)\n",
      "Using cached beautifulsoup4-4.12.3-py3-none-any.whl (147 kB)\n",
      "Using cached coloredlogs-15.0.1-py2.py3-none-any.whl (46 kB)\n",
      "Using cached filelock-3.14.0-py3-none-any.whl (12 kB)\n",
      "Using cached sympy-1.12-py3-none-any.whl (5.7 MB)\n",
      "Using cached humanfriendly-10.0-py2.py3-none-any.whl (86 kB)\n",
      "Using cached mpmath-1.3.0-py3-none-any.whl (536 kB)\n",
      "Using cached PySocks-1.7.1-py3-none-any.whl (16 kB)\n",
      "Using cached soupsieve-2.5-py3-none-any.whl (36 kB)\n",
      "Installing collected packages: PyQt5-Qt5, mpmath, tifffile, sympy, soupsieve, qtpy, PyYAML, PySocks, PyQt5-sip, pydantic-core, opencv-python-headless, networkx, natsort, lazy-loader, imageio, humanfriendly, filelock, annotated-types, scikit-image, PyQt5, pydantic, coloredlogs, beautifulsoup4, onnxruntime, imgviz, gdown, albumentations, labelme\n",
      "Successfully installed PyQt5-5.15.10 PyQt5-Qt5-5.15.2 PyQt5-sip-12.13.0 PySocks-1.7.1 PyYAML-6.0.1 albumentations-1.4.6 annotated-types-0.6.0 beautifulsoup4-4.12.3 coloredlogs-15.0.1 filelock-3.14.0 gdown-5.1.0 humanfriendly-10.0 imageio-2.34.1 imgviz-1.7.5 labelme-5.4.1 lazy-loader-0.4 mpmath-1.3.0 natsort-8.4.0 networkx-3.3 onnxruntime-1.17.3 opencv-python-headless-4.9.0.80 pydantic-2.7.1 pydantic-core-2.18.2 qtpy-2.4.1 scikit-image-0.23.2 soupsieve-2.5 sympy-1.12 tifffile-2024.5.3\n"
     ]
    }
   ],
   "source": [
    "!pip install labelme tensorflow opencv-python matplotlib albumentations"
   ]
  },
  {
   "cell_type": "markdown",
   "id": "c22784aa",
   "metadata": {},
   "source": [
    "## 1.2 Collect Images Using OpenCV"
   ]
  },
  {
   "cell_type": "code",
   "execution_count": 2,
   "id": "7c8ab83f",
   "metadata": {},
   "outputs": [],
   "source": [
    "import os\n",
    "import time\n",
    "import uuid\n",
    "import cv2"
   ]
  },
  {
   "cell_type": "code",
   "execution_count": 3,
   "id": "11adc203",
   "metadata": {},
   "outputs": [
    {
     "name": "stdout",
     "output_type": "stream",
     "text": [
      "2024-05-05 10:11:24,087 [\u001b[1m\u001b[97mINFO   \u001b[0m] \u001b[36m__init__\u001b[0m:\u001b[36mget_config\u001b[0m:\u001b[36m67\u001b[0m- \u001b[1m\u001b[97mLoading config file from: /home/muhammad-umer-khan/.labelmerc\u001b[0m\n",
      "QSocketNotifier: Can only be used with threads started with QThread\n"
     ]
    }
   ],
   "source": [
    "!labelme"
   ]
  },
  {
   "cell_type": "code",
   "execution_count": 10,
   "id": "c97e07ce",
   "metadata": {},
   "outputs": [],
   "source": [
    "IMAGES_PATH = 'images'  # Specify the directory to save images\n",
    "number_images = 10  # Number of images to capture"
   ]
  },
  {
   "cell_type": "code",
   "execution_count": 14,
   "id": "7e8390af",
   "metadata": {},
   "outputs": [
    {
     "name": "stdout",
     "output_type": "stream",
     "text": [
      "Error: Unable to open camera.\n"
     ]
    },
    {
     "name": "stderr",
     "output_type": "stream",
     "text": [
      "[ WARN:0@414.922] global cap_v4l.cpp:997 open VIDEOIO(V4L2:/dev/video1): can't open camera by index\n",
      "[ERROR:0@414.922] global obsensor_uvc_stream_channel.cpp:159 getStreamChannelGroup Camera index out of range\n"
     ]
    }
   ],
   "source": [
    "if not os.path.exists(IMAGES_PATH):\n",
    "    os.makedirs(IMAGES_PATH)\n",
    "\n",
    "cap = cv2.VideoCapture(1)\n",
    "if not cap.isOpened():\n",
    "    print(\"Error: Unable to open camera.\")\n",
    "else:\n",
    "    for imgnum in range(number_images):\n",
    "        print('Collecting image {}'.format(imgnum))\n",
    "        ret, frame = cap.read()\n",
    "        if ret:\n",
    "            imgname = os.path.join(IMAGES_PATH, f'{str(uuid.uuid1())}.jpg')\n",
    "            cv2.imwrite(imgname, frame)\n",
    "            cv2.imshow('frame', frame)\n",
    "            time.sleep(0.5)\n",
    "\n",
    "            if cv2.waitKey(1) & 0xFF == ord('q'):\n",
    "                break\n",
    "        else:\n",
    "            print(\"Error: Failed to capture frame.\")\n",
    "            break\n",
    "    cap.release()\n",
    "    cv2.destroyAllWindows()\n"
   ]
  },
  {
   "cell_type": "code",
   "execution_count": null,
   "id": "ab52b8d1",
   "metadata": {},
   "outputs": [],
   "source": []
  }
 ],
 "metadata": {
  "kernelspec": {
   "display_name": ".venv",
   "language": "python",
   "name": "python3"
  },
  "language_info": {
   "codemirror_mode": {
    "name": "ipython",
    "version": 3
   },
   "file_extension": ".py",
   "mimetype": "text/x-python",
   "name": "python",
   "nbconvert_exporter": "python",
   "pygments_lexer": "ipython3",
   "version": "3.12.3"
  }
 },
 "nbformat": 4,
 "nbformat_minor": 5
}
