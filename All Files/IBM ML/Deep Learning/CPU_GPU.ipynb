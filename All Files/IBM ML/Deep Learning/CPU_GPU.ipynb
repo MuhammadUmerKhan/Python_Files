{
  "nbformat": 4,
  "nbformat_minor": 0,
  "metadata": {
    "colab": {
      "provenance": []
    },
    "kernelspec": {
      "name": "python3",
      "display_name": "Python 3"
    },
    "language_info": {
      "name": "python"
    }
  },
  "cells": [
    {
      "cell_type": "code",
      "execution_count": 1,
      "metadata": {
        "id": "YDNnvg0ColuT"
      },
      "outputs": [],
      "source": [
        "import warnings\n",
        "warnings.simplefilter('ignore')\n",
        "\n",
        "import os\n",
        "os.environ['TF_CPP_MIN_LOG_LEVEL'] = '2'\n",
        "\n",
        "import numpy as np\n",
        "\n",
        "import tensorflow as tf\n",
        "# Import the keras library\n",
        "from tensorflow import keras\n",
        "from tensorflow.keras import Model\n",
        "from tensorflow.keras.models import Sequential\n",
        "from tensorflow.keras.layers import Conv2D, MaxPooling2D, Flatten, Dense\n",
        "from tensorflow.python.client import device_lib"
      ]
    },
    {
      "cell_type": "code",
      "source": [
        "os.environ['CUDA_VISIBLE_DEVICES'] = '-1'"
      ],
      "metadata": {
        "id": "0oiXcZJbopos"
      },
      "execution_count": 2,
      "outputs": []
    },
    {
      "cell_type": "code",
      "source": [
        "print(os.environ['CUDA_VISIBLE_DEVICES'])"
      ],
      "metadata": {
        "colab": {
          "base_uri": "https://localhost:8080/"
        },
        "id": "7YVixSMLoxKG",
        "outputId": "83f5dec0-9d54-45fc-8c91-10cb3098b6f5"
      },
      "execution_count": 3,
      "outputs": [
        {
          "output_type": "stream",
          "name": "stdout",
          "text": [
            "-1\n"
          ]
        }
      ]
    },
    {
      "cell_type": "code",
      "source": [
        "(X_train, y_train), (X_test, y_test) = keras.datasets.mnist.load_data()"
      ],
      "metadata": {
        "colab": {
          "base_uri": "https://localhost:8080/"
        },
        "id": "0C_8BqWIo0Fe",
        "outputId": "74f3ef4f-61e8-45c4-afff-49477976002d"
      },
      "execution_count": 4,
      "outputs": [
        {
          "output_type": "stream",
          "name": "stdout",
          "text": [
            "Downloading data from https://storage.googleapis.com/tensorflow/tf-keras-datasets/mnist.npz\n",
            "11490434/11490434 [==============================] - 0s 0us/step\n"
          ]
        }
      ]
    },
    {
      "cell_type": "code",
      "source": [
        "X_train = X_train.reshape((X_train.shape[0],X_train.shape[1],X_train.shape[2],1))\n",
        "X_test = X_test.reshape((X_test.shape[0],X_test.shape[1],X_test.shape[2],1))\n",
        "\n",
        "y_train = y_train.reshape((y_train.shape[0],1))\n",
        "y_test = y_test.reshape((y_test.shape[0],1))"
      ],
      "metadata": {
        "id": "68hDfIhupDl-"
      },
      "execution_count": 5,
      "outputs": []
    },
    {
      "cell_type": "code",
      "source": [
        "%%timeit -n1 -r1\n",
        "\n",
        "with tf.device('/CPU:0'):\n",
        "    model_cpu = Sequential()\n",
        "    model_cpu.add(Conv2D(input_shape = (28, 28, 1),\n",
        "                     filters=5,\n",
        "                     padding='Same',\n",
        "                     kernel_size=(3,3)\n",
        "                     ))\n",
        "    model_cpu.add(MaxPooling2D(pool_size=(2,2)))\n",
        "    model_cpu.add(Flatten())\n",
        "    model_cpu.add(Dense(256, activation='relu'))\n",
        "    model_cpu.add(Dense(10, activation='softmax'))\n",
        "\n",
        "    model_cpu.compile(optimizer='adam',\n",
        "              loss=keras.losses.SparseCategoricalCrossentropy(from_logits=True),\n",
        "              metrics=['accuracy'])\n",
        "\n",
        "    model_cpu.fit(X_train, y_train, validation_data=(X_test, y_test), epochs=5)"
      ],
      "metadata": {
        "colab": {
          "base_uri": "https://localhost:8080/"
        },
        "id": "OKbtmbg-pJKe",
        "outputId": "a969ae09-a8c4-49a7-8191-53081361f12c"
      },
      "execution_count": 7,
      "outputs": [
        {
          "output_type": "stream",
          "name": "stdout",
          "text": [
            "Epoch 1/5\n",
            "1875/1875 [==============================] - 30s 15ms/step - loss: 0.9320 - accuracy: 0.9164 - val_loss: 0.2017 - val_accuracy: 0.9503\n",
            "Epoch 2/5\n",
            "1875/1875 [==============================] - 28s 15ms/step - loss: 0.1391 - accuracy: 0.9637 - val_loss: 0.1677 - val_accuracy: 0.9578\n",
            "Epoch 3/5\n",
            "1875/1875 [==============================] - 29s 16ms/step - loss: 0.1036 - accuracy: 0.9717 - val_loss: 0.1611 - val_accuracy: 0.9655\n",
            "Epoch 4/5\n",
            "1875/1875 [==============================] - 28s 15ms/step - loss: 0.0879 - accuracy: 0.9763 - val_loss: 0.1718 - val_accuracy: 0.9623\n",
            "Epoch 5/5\n",
            "1875/1875 [==============================] - 27s 15ms/step - loss: 0.0702 - accuracy: 0.9811 - val_loss: 0.1494 - val_accuracy: 0.9686\n",
            "2min 24s ± 0 ns per loop (mean ± std. dev. of 1 run, 1 loop each)\n"
          ]
        }
      ]
    },
    {
      "cell_type": "markdown",
      "source": [
        "## Using GPU\n"
      ],
      "metadata": {
        "id": "QogwadZMpdvj"
      }
    },
    {
      "cell_type": "code",
      "source": [
        "print(\"Num GPUs Available: \", len(tf.config.list_physical_devices('GPU')))"
      ],
      "metadata": {
        "colab": {
          "base_uri": "https://localhost:8080/"
        },
        "id": "isSAryHLpQAq",
        "outputId": "55badc52-0bb6-43a8-c2ff-841178602319"
      },
      "execution_count": 8,
      "outputs": [
        {
          "output_type": "stream",
          "name": "stdout",
          "text": [
            "Num GPUs Available:  0\n"
          ]
        }
      ]
    },
    {
      "cell_type": "code",
      "source": [
        "print(device_lib.list_local_devices())"
      ],
      "metadata": {
        "colab": {
          "base_uri": "https://localhost:8080/"
        },
        "id": "PYw6oZXUqCk2",
        "outputId": "c6aad262-abc9-4ce0-cfbc-b2373caedc5d"
      },
      "execution_count": 9,
      "outputs": [
        {
          "output_type": "stream",
          "name": "stdout",
          "text": [
            "[name: \"/device:CPU:0\"\n",
            "device_type: \"CPU\"\n",
            "memory_limit: 268435456\n",
            "locality {\n",
            "}\n",
            "incarnation: 7347065159186030867\n",
            "xla_global_id: -1\n",
            "]\n"
          ]
        }
      ]
    },
    {
      "cell_type": "code",
      "source": [
        "%%timeit -n1 -r1\n",
        "with tf.device('/device:GPU:2'):\n",
        "    model_gpu = Sequential()\n",
        "    model_gpu.add(Conv2D(input_shape = (28, 28, 1),\n",
        "                     filters=5,\n",
        "                     padding='Same',\n",
        "                     kernel_size=(3,3)\n",
        "                     ))\n",
        "    model_gpu.add(MaxPooling2D(pool_size=(2,2)))\n",
        "    model_gpu.add(Flatten())\n",
        "    model_gpu.add(Dense(256, activation='relu'))\n",
        "    model_gpu.add(Dense(10, activation='softmax'))\n",
        "\n",
        "    model_gpu.compile(optimizer='adam',\n",
        "              loss=keras.losses.SparseCategoricalCrossentropy(from_logits=True),\n",
        "              metrics=['accuracy'])\n",
        "\n",
        "    model_gpu.fit(X_train, y_train, validation_data=(X_test, y_test), epochs=5)"
      ],
      "metadata": {
        "colab": {
          "base_uri": "https://localhost:8080/"
        },
        "id": "fZXFVIyVqkgs",
        "outputId": "5e358654-43fe-4c4e-d3cb-542b14ae66bd"
      },
      "execution_count": 10,
      "outputs": [
        {
          "output_type": "stream",
          "name": "stdout",
          "text": [
            "Epoch 1/5\n",
            "1875/1875 [==============================] - 40s 21ms/step - loss: 0.8807 - accuracy: 0.9117 - val_loss: 0.1748 - val_accuracy: 0.9503\n",
            "Epoch 2/5\n",
            "1875/1875 [==============================] - 27s 14ms/step - loss: 0.1218 - accuracy: 0.9657 - val_loss: 0.1553 - val_accuracy: 0.9577\n",
            "Epoch 3/5\n",
            "1875/1875 [==============================] - 28s 15ms/step - loss: 0.0917 - accuracy: 0.9731 - val_loss: 0.1554 - val_accuracy: 0.9620\n",
            "Epoch 4/5\n",
            "1875/1875 [==============================] - 27s 14ms/step - loss: 0.0817 - accuracy: 0.9757 - val_loss: 0.1541 - val_accuracy: 0.9636\n",
            "Epoch 5/5\n",
            "1875/1875 [==============================] - 27s 14ms/step - loss: 0.0681 - accuracy: 0.9803 - val_loss: 0.1453 - val_accuracy: 0.9692\n",
            "3min 22s ± 0 ns per loop (mean ± std. dev. of 1 run, 1 loop each)\n"
          ]
        }
      ]
    },
    {
      "cell_type": "code",
      "source": [
        "tf.debugging.set_log_device_placement(True)\n",
        "\n",
        "gpus = tf.config.list_logical_devices('GPU')\n",
        "if gpus:\n",
        "    c = []\n",
        "    for gpu in gpus:\n",
        "        with tf.device(gpu.name):\n",
        "            a = tf.constant([[1.0, 2.0, 3.0], [4.0, 5.0, 6.0]])\n",
        "            b = tf.constant([[1.0, 2.0], [3.0, 4.0], [5.0, 6.0]])\n",
        "            c.append(tf.matmul(a, b))\n",
        "\n",
        "    # Run on CPU\n",
        "    with tf.device('/CPU:0'):\n",
        "        matmul_sum = tf.add_n(c)\n",
        "\n",
        "    print(matmul_sum)"
      ],
      "metadata": {
        "id": "bY6jvF8OqoKM"
      },
      "execution_count": 11,
      "outputs": []
    },
    {
      "cell_type": "code",
      "source": [],
      "metadata": {
        "id": "XddJFNdHqxCt"
      },
      "execution_count": null,
      "outputs": []
    }
  ]
}