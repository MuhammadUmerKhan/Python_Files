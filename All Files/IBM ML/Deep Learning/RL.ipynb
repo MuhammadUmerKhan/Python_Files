{
  "nbformat": 4,
  "nbformat_minor": 0,
  "metadata": {
    "colab": {
      "provenance": []
    },
    "kernelspec": {
      "name": "python3",
      "display_name": "Python 3"
    },
    "language_info": {
      "name": "python"
    }
  },
  "cells": [
    {
      "cell_type": "code",
      "execution_count": 1,
      "metadata": {
        "id": "PpX3YEM2-DTx"
      },
      "outputs": [],
      "source": [
        "import gym\n",
        "import pandas\n",
        "import numpy as np\n",
        "\n",
        "import warnings\n",
        "warnings.filterwarnings(\"ignore\")\n",
        "\n",
        "def warn(*args, **kwargs):\n",
        "    return None\n",
        "\n",
        "warnings.warn = warn"
      ]
    },
    {
      "cell_type": "code",
      "source": [
        "env = gym.make('FrozenLake-v1')\n",
        "current_observation = env.reset()\n",
        "print(current_observation)"
      ],
      "metadata": {
        "colab": {
          "base_uri": "https://localhost:8080/"
        },
        "id": "7Ngc5Der-Fej",
        "outputId": "c50fe96c-0944-48ec-882e-e8050d054ae4"
      },
      "execution_count": 2,
      "outputs": [
        {
          "output_type": "stream",
          "name": "stdout",
          "text": [
            "0\n"
          ]
        }
      ]
    },
    {
      "cell_type": "code",
      "source": [
        "env.render()"
      ],
      "metadata": {
        "id": "yPxAepot-cJS"
      },
      "execution_count": 3,
      "outputs": []
    },
    {
      "cell_type": "code",
      "source": [
        "print(f\"our action space: {env.action_space}\")\n",
        "new_action = env.action_space.sample()\n",
        "print(f\"our new action: {new_action}\")"
      ],
      "metadata": {
        "colab": {
          "base_uri": "https://localhost:8080/"
        },
        "id": "hZueV6sb-mZJ",
        "outputId": "30a452cf-e129-4f68-c667-92747e9ce8b5"
      },
      "execution_count": 4,
      "outputs": [
        {
          "output_type": "stream",
          "name": "stdout",
          "text": [
            "our action space: Discrete(4)\n",
            "our new action: 3\n"
          ]
        }
      ]
    },
    {
      "cell_type": "code",
      "source": [
        "new_action = env.action_space.sample()"
      ],
      "metadata": {
        "id": "263NCjOv_Gdp"
      },
      "execution_count": 5,
      "outputs": []
    },
    {
      "cell_type": "code",
      "source": [
        "observation, reward, done, info = env.step(new_action)\n",
        "print(f\"Observation: {observation}, Reward: {reward}, Done: {done}, Info: {info}\")\n",
        "env.render()"
      ],
      "metadata": {
        "colab": {
          "base_uri": "https://localhost:8080/"
        },
        "id": "TEIt1_GT_PrS",
        "outputId": "89929c1e-9b02-4396-84e5-d1cc983684e2"
      },
      "execution_count": 6,
      "outputs": [
        {
          "output_type": "stream",
          "name": "stdout",
          "text": [
            "Observation: 0, Reward: 0.0, Done: False, Info: {'prob': 0.3333333333333333}\n"
          ]
        }
      ]
    },
    {
      "cell_type": "code",
      "source": [
        "current_observation = env.reset()\n",
        "for i in range(5):\n",
        "  new_action = env.action_space.sample()\n",
        "  observation, reward, done, info = env.step(new_action)\n",
        "  print(f\"Observation: {observation}, Reward: {reward}, Done: {done}, Info: {info}\")\n",
        "  env.render()"
      ],
      "metadata": {
        "colab": {
          "base_uri": "https://localhost:8080/"
        },
        "id": "ZbhVGwSI_mz9",
        "outputId": "b7d5627e-806f-414d-d27a-d7444bafc633"
      },
      "execution_count": 7,
      "outputs": [
        {
          "output_type": "stream",
          "name": "stdout",
          "text": [
            "Observation: 0, Reward: 0.0, Done: False, Info: {'prob': 0.3333333333333333}\n",
            "Observation: 4, Reward: 0.0, Done: False, Info: {'prob': 0.3333333333333333}\n",
            "Observation: 4, Reward: 0.0, Done: False, Info: {'prob': 0.3333333333333333}\n",
            "Observation: 5, Reward: 0.0, Done: True, Info: {'prob': 0.3333333333333333, 'TimeLimit.truncated': False}\n",
            "Observation: 5, Reward: 0, Done: True, Info: {'prob': 1.0, 'TimeLimit.truncated': False}\n"
          ]
        }
      ]
    },
    {
      "cell_type": "markdown",
      "source": [
        "Now we can guess what each of the outputs mean.\n",
        "\n",
        "**Observation** refers to the number of the tile. The tiles appear to be numbered\n",
        "\n",
        "    0 1 2 3\n",
        "    4 5 ...\n",
        "    \n",
        "**Reward** refers to the outcome of the game. We get 1 if we win, zero otherwise.\n",
        "\n",
        "**Done** tells us if the game is still going. It goes to true when we win or fall into a hole.\n",
        "\n",
        "**info** gives extra info about the world. Here, it's probabilities. Can you guess what this means here? Perhaps the world is a bit noisy.\n"
      ],
      "metadata": {
        "id": "ENN6Szd5AFOZ"
      }
    },
    {
      "cell_type": "code",
      "source": [
        "current_observation = env.reset()\n",
        "done = False\n",
        "while not done:\n",
        "  new_action = env.action_space.sample()\n",
        "  observation, reward, done, info = env.step(new_action)\n",
        "  print(f\"Observation: {observation}, Reward: {reward}, Done: {done}, Info: {info}\")\n",
        ""
      ],
      "metadata": {
        "colab": {
          "base_uri": "https://localhost:8080/"
        },
        "id": "iJPNdbOeAABr",
        "outputId": "9e03d199-f18a-4a28-e743-c521cb2b4e69"
      },
      "execution_count": 8,
      "outputs": [
        {
          "output_type": "stream",
          "name": "stdout",
          "text": [
            "Observation: 0, Reward: 0.0, Done: False, Info: {'prob': 0.3333333333333333}\n",
            "Observation: 1, Reward: 0.0, Done: False, Info: {'prob': 0.3333333333333333}\n",
            "Observation: 0, Reward: 0.0, Done: False, Info: {'prob': 0.3333333333333333}\n",
            "Observation: 4, Reward: 0.0, Done: False, Info: {'prob': 0.3333333333333333}\n",
            "Observation: 5, Reward: 0.0, Done: True, Info: {'prob': 0.3333333333333333, 'TimeLimit.truncated': False}\n"
          ]
        }
      ]
    },
    {
      "cell_type": "markdown",
      "source": [
        "# Part 1: Gather data\n",
        "\n",
        "We want to build an intelligent actor but first we have to gather data on which actions are useful.\n",
        "\n",
        "Use the code above as reference. Run a *random* agent through 1,000 or more episodes and collect data on each step.\n",
        "\n",
        "I recommend you store this data in a pandas dataframe. Each row should be a step. Your features should include the following features or similar\n",
        "\n",
        "- `observation` the observation at the beginning of the step (before acting!)\n",
        "- `action` the action randomly sampled\n",
        "- `current_reward` the reward received after the action was performed\n",
        "\n",
        "After you generate this data, it is recommended that you compute a column (such as `total_reward`, that is the total reward for the entire episode).\n",
        "\n",
        "At the end of the data gathering, you should be able to use pandas (or similar) to calculate the average total reward *per episode* of the random agent. The average score should be 1-2%, meaning that the agent very rarely wins.\n",
        "\n",
        "\n",
        "## Hints\n",
        "\n",
        "- `initial_observation = env.reset()` starts a new episode and returns the initial observation.\n",
        "- `new_observation, reward, done, info = env.step(new_action)` executes one action and returns the following observation. You may look at the documentation for the step method if you are curious about what it does.\n",
        "- `done != True` until the game is finished.\n",
        "- we are trying to maximize the reward *per episode*. Our first game gives 0 reward unless the agent travels to the goal.\n",
        "- `env.action_space.n` gives the number of possible actions in the environment. `env.action_space.sample()` allows the agent to randomly sample an action.\n",
        "- `env.observation_space.n` gives the number of possible states in the environment.\n"
      ],
      "metadata": {
        "id": "P9KE50D0Ai6C"
      }
    },
    {
      "cell_type": "code",
      "source": [
        "env = gym.make('FrozenLake-v1')\n",
        "\n",
        "num_episodes = 40000\n",
        "\n",
        "life_memory = []\n",
        "for i in range(num_episodes):\n",
        "\n",
        "    # start a new episode and record all the memories\n",
        "    old_observation = env.reset()\n",
        "    done = False\n",
        "    tot_reward = 0\n",
        "    ep_memory = []\n",
        "    while not done:\n",
        "        new_action = env.action_space.sample()\n",
        "        observation, reward, done, info = env.step(new_action)\n",
        "        tot_reward += reward\n",
        "\n",
        "        ep_memory.append({\n",
        "            \"observation\": old_observation,\n",
        "            \"action\": new_action,\n",
        "            \"reward\": reward,\n",
        "            \"episode\": i,\n",
        "        })\n",
        "        old_observation = observation\n",
        "\n",
        "    # incorporate total reward\n",
        "    num_steps = len(ep_memory)\n",
        "    for i, ep_mem in enumerate(ep_memory):\n",
        "        ep_mem[\"tot_reward\"] = tot_reward\n",
        "        ep_mem[\"decay_reward\"] = i*tot_reward/num_steps\n",
        "\n",
        "    life_memory.extend(ep_memory)\n",
        "\n",
        "memory_df = pandas.DataFrame(life_memory)"
      ],
      "metadata": {
        "id": "z1AZgLemAY19"
      },
      "execution_count": 9,
      "outputs": []
    },
    {
      "cell_type": "code",
      "source": [
        "memory_df.describe()"
      ],
      "metadata": {
        "colab": {
          "base_uri": "https://localhost:8080/",
          "height": 300
        },
        "id": "iKZwINukEJBg",
        "outputId": "85ffd990-c53c-490c-ad20-737af6a5c790"
      },
      "execution_count": 10,
      "outputs": [
        {
          "output_type": "execute_result",
          "data": {
            "text/plain": [
              "         observation         action         reward        episode  \\\n",
              "count  306719.000000  306719.000000  306719.000000  306719.000000   \n",
              "mean        2.236301       1.501345       0.001777   20070.950815   \n",
              "std         3.018256       1.118838       0.042116   11524.758304   \n",
              "min         0.000000       0.000000       0.000000       0.000000   \n",
              "25%         0.000000       1.000000       0.000000   10123.000000   \n",
              "50%         1.000000       2.000000       0.000000   20057.000000   \n",
              "75%         4.000000       3.000000       0.000000   30082.000000   \n",
              "max        14.000000       3.000000       1.000000   39999.000000   \n",
              "\n",
              "          tot_reward   decay_reward  \n",
              "count  306719.000000  306719.000000  \n",
              "mean        0.023536       0.010880  \n",
              "std         0.151599       0.082858  \n",
              "min         0.000000       0.000000  \n",
              "25%         0.000000       0.000000  \n",
              "50%         0.000000       0.000000  \n",
              "75%         0.000000       0.000000  \n",
              "max         1.000000       0.975610  "
            ],
            "text/html": [
              "\n",
              "  <div id=\"df-d6025f55-5ab9-454b-baa1-41f2761b9bc7\" class=\"colab-df-container\">\n",
              "    <div>\n",
              "<style scoped>\n",
              "    .dataframe tbody tr th:only-of-type {\n",
              "        vertical-align: middle;\n",
              "    }\n",
              "\n",
              "    .dataframe tbody tr th {\n",
              "        vertical-align: top;\n",
              "    }\n",
              "\n",
              "    .dataframe thead th {\n",
              "        text-align: right;\n",
              "    }\n",
              "</style>\n",
              "<table border=\"1\" class=\"dataframe\">\n",
              "  <thead>\n",
              "    <tr style=\"text-align: right;\">\n",
              "      <th></th>\n",
              "      <th>observation</th>\n",
              "      <th>action</th>\n",
              "      <th>reward</th>\n",
              "      <th>episode</th>\n",
              "      <th>tot_reward</th>\n",
              "      <th>decay_reward</th>\n",
              "    </tr>\n",
              "  </thead>\n",
              "  <tbody>\n",
              "    <tr>\n",
              "      <th>count</th>\n",
              "      <td>306719.000000</td>\n",
              "      <td>306719.000000</td>\n",
              "      <td>306719.000000</td>\n",
              "      <td>306719.000000</td>\n",
              "      <td>306719.000000</td>\n",
              "      <td>306719.000000</td>\n",
              "    </tr>\n",
              "    <tr>\n",
              "      <th>mean</th>\n",
              "      <td>2.236301</td>\n",
              "      <td>1.501345</td>\n",
              "      <td>0.001777</td>\n",
              "      <td>20070.950815</td>\n",
              "      <td>0.023536</td>\n",
              "      <td>0.010880</td>\n",
              "    </tr>\n",
              "    <tr>\n",
              "      <th>std</th>\n",
              "      <td>3.018256</td>\n",
              "      <td>1.118838</td>\n",
              "      <td>0.042116</td>\n",
              "      <td>11524.758304</td>\n",
              "      <td>0.151599</td>\n",
              "      <td>0.082858</td>\n",
              "    </tr>\n",
              "    <tr>\n",
              "      <th>min</th>\n",
              "      <td>0.000000</td>\n",
              "      <td>0.000000</td>\n",
              "      <td>0.000000</td>\n",
              "      <td>0.000000</td>\n",
              "      <td>0.000000</td>\n",
              "      <td>0.000000</td>\n",
              "    </tr>\n",
              "    <tr>\n",
              "      <th>25%</th>\n",
              "      <td>0.000000</td>\n",
              "      <td>1.000000</td>\n",
              "      <td>0.000000</td>\n",
              "      <td>10123.000000</td>\n",
              "      <td>0.000000</td>\n",
              "      <td>0.000000</td>\n",
              "    </tr>\n",
              "    <tr>\n",
              "      <th>50%</th>\n",
              "      <td>1.000000</td>\n",
              "      <td>2.000000</td>\n",
              "      <td>0.000000</td>\n",
              "      <td>20057.000000</td>\n",
              "      <td>0.000000</td>\n",
              "      <td>0.000000</td>\n",
              "    </tr>\n",
              "    <tr>\n",
              "      <th>75%</th>\n",
              "      <td>4.000000</td>\n",
              "      <td>3.000000</td>\n",
              "      <td>0.000000</td>\n",
              "      <td>30082.000000</td>\n",
              "      <td>0.000000</td>\n",
              "      <td>0.000000</td>\n",
              "    </tr>\n",
              "    <tr>\n",
              "      <th>max</th>\n",
              "      <td>14.000000</td>\n",
              "      <td>3.000000</td>\n",
              "      <td>1.000000</td>\n",
              "      <td>39999.000000</td>\n",
              "      <td>1.000000</td>\n",
              "      <td>0.975610</td>\n",
              "    </tr>\n",
              "  </tbody>\n",
              "</table>\n",
              "</div>\n",
              "    <div class=\"colab-df-buttons\">\n",
              "\n",
              "  <div class=\"colab-df-container\">\n",
              "    <button class=\"colab-df-convert\" onclick=\"convertToInteractive('df-d6025f55-5ab9-454b-baa1-41f2761b9bc7')\"\n",
              "            title=\"Convert this dataframe to an interactive table.\"\n",
              "            style=\"display:none;\">\n",
              "\n",
              "  <svg xmlns=\"http://www.w3.org/2000/svg\" height=\"24px\" viewBox=\"0 -960 960 960\">\n",
              "    <path d=\"M120-120v-720h720v720H120Zm60-500h600v-160H180v160Zm220 220h160v-160H400v160Zm0 220h160v-160H400v160ZM180-400h160v-160H180v160Zm440 0h160v-160H620v160ZM180-180h160v-160H180v160Zm440 0h160v-160H620v160Z\"/>\n",
              "  </svg>\n",
              "    </button>\n",
              "\n",
              "  <style>\n",
              "    .colab-df-container {\n",
              "      display:flex;\n",
              "      gap: 12px;\n",
              "    }\n",
              "\n",
              "    .colab-df-convert {\n",
              "      background-color: #E8F0FE;\n",
              "      border: none;\n",
              "      border-radius: 50%;\n",
              "      cursor: pointer;\n",
              "      display: none;\n",
              "      fill: #1967D2;\n",
              "      height: 32px;\n",
              "      padding: 0 0 0 0;\n",
              "      width: 32px;\n",
              "    }\n",
              "\n",
              "    .colab-df-convert:hover {\n",
              "      background-color: #E2EBFA;\n",
              "      box-shadow: 0px 1px 2px rgba(60, 64, 67, 0.3), 0px 1px 3px 1px rgba(60, 64, 67, 0.15);\n",
              "      fill: #174EA6;\n",
              "    }\n",
              "\n",
              "    .colab-df-buttons div {\n",
              "      margin-bottom: 4px;\n",
              "    }\n",
              "\n",
              "    [theme=dark] .colab-df-convert {\n",
              "      background-color: #3B4455;\n",
              "      fill: #D2E3FC;\n",
              "    }\n",
              "\n",
              "    [theme=dark] .colab-df-convert:hover {\n",
              "      background-color: #434B5C;\n",
              "      box-shadow: 0px 1px 3px 1px rgba(0, 0, 0, 0.15);\n",
              "      filter: drop-shadow(0px 1px 2px rgba(0, 0, 0, 0.3));\n",
              "      fill: #FFFFFF;\n",
              "    }\n",
              "  </style>\n",
              "\n",
              "    <script>\n",
              "      const buttonEl =\n",
              "        document.querySelector('#df-d6025f55-5ab9-454b-baa1-41f2761b9bc7 button.colab-df-convert');\n",
              "      buttonEl.style.display =\n",
              "        google.colab.kernel.accessAllowed ? 'block' : 'none';\n",
              "\n",
              "      async function convertToInteractive(key) {\n",
              "        const element = document.querySelector('#df-d6025f55-5ab9-454b-baa1-41f2761b9bc7');\n",
              "        const dataTable =\n",
              "          await google.colab.kernel.invokeFunction('convertToInteractive',\n",
              "                                                    [key], {});\n",
              "        if (!dataTable) return;\n",
              "\n",
              "        const docLinkHtml = 'Like what you see? Visit the ' +\n",
              "          '<a target=\"_blank\" href=https://colab.research.google.com/notebooks/data_table.ipynb>data table notebook</a>'\n",
              "          + ' to learn more about interactive tables.';\n",
              "        element.innerHTML = '';\n",
              "        dataTable['output_type'] = 'display_data';\n",
              "        await google.colab.output.renderOutput(dataTable, element);\n",
              "        const docLink = document.createElement('div');\n",
              "        docLink.innerHTML = docLinkHtml;\n",
              "        element.appendChild(docLink);\n",
              "      }\n",
              "    </script>\n",
              "  </div>\n",
              "\n",
              "\n",
              "<div id=\"df-c3eec61f-22d3-4e0a-ac57-a1f66b7630c7\">\n",
              "  <button class=\"colab-df-quickchart\" onclick=\"quickchart('df-c3eec61f-22d3-4e0a-ac57-a1f66b7630c7')\"\n",
              "            title=\"Suggest charts\"\n",
              "            style=\"display:none;\">\n",
              "\n",
              "<svg xmlns=\"http://www.w3.org/2000/svg\" height=\"24px\"viewBox=\"0 0 24 24\"\n",
              "     width=\"24px\">\n",
              "    <g>\n",
              "        <path d=\"M19 3H5c-1.1 0-2 .9-2 2v14c0 1.1.9 2 2 2h14c1.1 0 2-.9 2-2V5c0-1.1-.9-2-2-2zM9 17H7v-7h2v7zm4 0h-2V7h2v10zm4 0h-2v-4h2v4z\"/>\n",
              "    </g>\n",
              "</svg>\n",
              "  </button>\n",
              "\n",
              "<style>\n",
              "  .colab-df-quickchart {\n",
              "      --bg-color: #E8F0FE;\n",
              "      --fill-color: #1967D2;\n",
              "      --hover-bg-color: #E2EBFA;\n",
              "      --hover-fill-color: #174EA6;\n",
              "      --disabled-fill-color: #AAA;\n",
              "      --disabled-bg-color: #DDD;\n",
              "  }\n",
              "\n",
              "  [theme=dark] .colab-df-quickchart {\n",
              "      --bg-color: #3B4455;\n",
              "      --fill-color: #D2E3FC;\n",
              "      --hover-bg-color: #434B5C;\n",
              "      --hover-fill-color: #FFFFFF;\n",
              "      --disabled-bg-color: #3B4455;\n",
              "      --disabled-fill-color: #666;\n",
              "  }\n",
              "\n",
              "  .colab-df-quickchart {\n",
              "    background-color: var(--bg-color);\n",
              "    border: none;\n",
              "    border-radius: 50%;\n",
              "    cursor: pointer;\n",
              "    display: none;\n",
              "    fill: var(--fill-color);\n",
              "    height: 32px;\n",
              "    padding: 0;\n",
              "    width: 32px;\n",
              "  }\n",
              "\n",
              "  .colab-df-quickchart:hover {\n",
              "    background-color: var(--hover-bg-color);\n",
              "    box-shadow: 0 1px 2px rgba(60, 64, 67, 0.3), 0 1px 3px 1px rgba(60, 64, 67, 0.15);\n",
              "    fill: var(--button-hover-fill-color);\n",
              "  }\n",
              "\n",
              "  .colab-df-quickchart-complete:disabled,\n",
              "  .colab-df-quickchart-complete:disabled:hover {\n",
              "    background-color: var(--disabled-bg-color);\n",
              "    fill: var(--disabled-fill-color);\n",
              "    box-shadow: none;\n",
              "  }\n",
              "\n",
              "  .colab-df-spinner {\n",
              "    border: 2px solid var(--fill-color);\n",
              "    border-color: transparent;\n",
              "    border-bottom-color: var(--fill-color);\n",
              "    animation:\n",
              "      spin 1s steps(1) infinite;\n",
              "  }\n",
              "\n",
              "  @keyframes spin {\n",
              "    0% {\n",
              "      border-color: transparent;\n",
              "      border-bottom-color: var(--fill-color);\n",
              "      border-left-color: var(--fill-color);\n",
              "    }\n",
              "    20% {\n",
              "      border-color: transparent;\n",
              "      border-left-color: var(--fill-color);\n",
              "      border-top-color: var(--fill-color);\n",
              "    }\n",
              "    30% {\n",
              "      border-color: transparent;\n",
              "      border-left-color: var(--fill-color);\n",
              "      border-top-color: var(--fill-color);\n",
              "      border-right-color: var(--fill-color);\n",
              "    }\n",
              "    40% {\n",
              "      border-color: transparent;\n",
              "      border-right-color: var(--fill-color);\n",
              "      border-top-color: var(--fill-color);\n",
              "    }\n",
              "    60% {\n",
              "      border-color: transparent;\n",
              "      border-right-color: var(--fill-color);\n",
              "    }\n",
              "    80% {\n",
              "      border-color: transparent;\n",
              "      border-right-color: var(--fill-color);\n",
              "      border-bottom-color: var(--fill-color);\n",
              "    }\n",
              "    90% {\n",
              "      border-color: transparent;\n",
              "      border-bottom-color: var(--fill-color);\n",
              "    }\n",
              "  }\n",
              "</style>\n",
              "\n",
              "  <script>\n",
              "    async function quickchart(key) {\n",
              "      const quickchartButtonEl =\n",
              "        document.querySelector('#' + key + ' button');\n",
              "      quickchartButtonEl.disabled = true;  // To prevent multiple clicks.\n",
              "      quickchartButtonEl.classList.add('colab-df-spinner');\n",
              "      try {\n",
              "        const charts = await google.colab.kernel.invokeFunction(\n",
              "            'suggestCharts', [key], {});\n",
              "      } catch (error) {\n",
              "        console.error('Error during call to suggestCharts:', error);\n",
              "      }\n",
              "      quickchartButtonEl.classList.remove('colab-df-spinner');\n",
              "      quickchartButtonEl.classList.add('colab-df-quickchart-complete');\n",
              "    }\n",
              "    (() => {\n",
              "      let quickchartButtonEl =\n",
              "        document.querySelector('#df-c3eec61f-22d3-4e0a-ac57-a1f66b7630c7 button');\n",
              "      quickchartButtonEl.style.display =\n",
              "        google.colab.kernel.accessAllowed ? 'block' : 'none';\n",
              "    })();\n",
              "  </script>\n",
              "</div>\n",
              "\n",
              "    </div>\n",
              "  </div>\n"
            ],
            "application/vnd.google.colaboratory.intrinsic+json": {
              "type": "dataframe",
              "summary": "{\n  \"name\": \"memory_df\",\n  \"rows\": 8,\n  \"fields\": [\n    {\n      \"column\": \"observation\",\n      \"properties\": {\n        \"dtype\": \"number\",\n        \"std\": 108440.31746348152,\n        \"min\": 0.0,\n        \"max\": 306719.0,\n        \"num_unique_values\": 7,\n        \"samples\": [\n          306719.0,\n          2.2363009790720496,\n          4.0\n        ],\n        \"semantic_type\": \"\",\n        \"description\": \"\"\n      }\n    },\n    {\n      \"column\": \"action\",\n      \"properties\": {\n        \"dtype\": \"number\",\n        \"std\": 108440.95550626096,\n        \"min\": 0.0,\n        \"max\": 306719.0,\n        \"num_unique_values\": 7,\n        \"samples\": [\n          306719.0,\n          1.5013448791890949,\n          2.0\n        ],\n        \"semantic_type\": \"\",\n        \"description\": \"\"\n      }\n    },\n    {\n      \"column\": \"reward\",\n      \"properties\": {\n        \"dtype\": \"number\",\n        \"std\": 108441.48968540662,\n        \"min\": 0.0,\n        \"max\": 306719.0,\n        \"num_unique_values\": 5,\n        \"samples\": [\n          0.0017768706861981162,\n          1.0,\n          0.042115545819124085\n        ],\n        \"semantic_type\": \"\",\n        \"description\": \"\"\n      }\n    },\n    {\n      \"column\": \"episode\",\n      \"properties\": {\n        \"dtype\": \"number\",\n        \"std\": 102524.02617779358,\n        \"min\": 0.0,\n        \"max\": 306719.0,\n        \"num_unique_values\": 8,\n        \"samples\": [\n          20070.950814915283,\n          20057.0,\n          306719.0\n        ],\n        \"semantic_type\": \"\",\n        \"description\": \"\"\n      }\n    },\n    {\n      \"column\": \"tot_reward\",\n      \"properties\": {\n        \"dtype\": \"number\",\n        \"std\": 108441.48305662088,\n        \"min\": 0.0,\n        \"max\": 306719.0,\n        \"num_unique_values\": 5,\n        \"samples\": [\n          0.02353620088745725,\n          1.0,\n          0.1515992185494814\n        ],\n        \"semantic_type\": \"\",\n        \"description\": \"\"\n      }\n    },\n    {\n      \"column\": \"decay_reward\",\n      \"properties\": {\n        \"dtype\": \"number\",\n        \"std\": 108441.48839968274,\n        \"min\": 0.0,\n        \"max\": 306719.0,\n        \"num_unique_values\": 5,\n        \"samples\": [\n          0.010879665100629566,\n          0.975609756097561,\n          0.08285836858603315\n        ],\n        \"semantic_type\": \"\",\n        \"description\": \"\"\n      }\n    }\n  ]\n}"
            }
          },
          "metadata": {},
          "execution_count": 10
        }
      ]
    },
    {
      "cell_type": "code",
      "source": [
        "memory_df.shape"
      ],
      "metadata": {
        "colab": {
          "base_uri": "https://localhost:8080/"
        },
        "id": "tMFfQfDvER3m",
        "outputId": "d78300db-97b6-4443-a338-5c5e31890b27"
      },
      "execution_count": 11,
      "outputs": [
        {
          "output_type": "execute_result",
          "data": {
            "text/plain": [
              "(306719, 6)"
            ]
          },
          "metadata": {},
          "execution_count": 11
        }
      ]
    },
    {
      "cell_type": "code",
      "source": [
        "memory_df.groupby('episode').reward.sum().mean()"
      ],
      "metadata": {
        "colab": {
          "base_uri": "https://localhost:8080/"
        },
        "id": "FDfW1RchEV5i",
        "outputId": "5e05b46a-254e-48f9-9490-197c92bb497b"
      },
      "execution_count": 12,
      "outputs": [
        {
          "output_type": "execute_result",
          "data": {
            "text/plain": [
              "0.013625"
            ]
          },
          "metadata": {},
          "execution_count": 12
        }
      ]
    },
    {
      "cell_type": "markdown",
      "source": [
        "# Step 2: Predict\n",
        "\n",
        "Now that you have a bunch of data put it into a format that you can model. The goal here is to guide the behavior of our agent. Our agent will be given an observation and need to decide between the possible actions given that observation and the prediction of the model.\n",
        "\n",
        "Remember, you're a data scientist! Be creative.\n",
        "\n",
        "It might be helpful to work backwards. Ultimately, you will write something like:\n",
        "\n",
        "```\n",
        "def convert_to_row(obs, act):\n",
        "    # expertly written code\n",
        "    return row_of_obs_act\n",
        "    \n",
        "rows = [convert_to_row(current_obs, act) for act in possible_actions]\n",
        "\n",
        "pred_outcome = model.predict(rows)\n",
        "```\n",
        "\n",
        "So, you will need to design a quantity that you can ask your model to predict for every possible action-observation pair. Think a bit about what this quantity should be. Should the model try to predict the immediate reward for each action? If so, how would it know where to go at the beginning of each episode when all moves give zero reward but when some moves bring it closer to the goal than others.\n"
      ],
      "metadata": {
        "id": "Ker3v8b5Ek2v"
      }
    },
    {
      "cell_type": "code",
      "source": [
        "from sklearn.ensemble import RandomForestRegressor, ExtraTreesRegressor\n",
        "from sklearn.svm import SVR"
      ],
      "metadata": {
        "id": "Z7XNLFBeEgvK"
      },
      "execution_count": 13,
      "outputs": []
    },
    {
      "cell_type": "code",
      "source": [
        "model = ExtraTreesRegressor(n_estimators=50)\n",
        "y = 0.5*memory_df.reward + 0.1*memory_df.decay_reward + memory_df.tot_reward\n",
        "x = memory_df[[\"observation\", \"action\"]]\n",
        "model.fit(x, y)"
      ],
      "metadata": {
        "colab": {
          "base_uri": "https://localhost:8080/",
          "height": 75
        },
        "id": "cJReJKZLEqVR",
        "outputId": "5a2b961c-d7bf-4043-c71f-61881b14ed32"
      },
      "execution_count": 14,
      "outputs": [
        {
          "output_type": "execute_result",
          "data": {
            "text/plain": [
              "ExtraTreesRegressor(n_estimators=50)"
            ],
            "text/html": [
              "<style>#sk-container-id-1 {color: black;background-color: white;}#sk-container-id-1 pre{padding: 0;}#sk-container-id-1 div.sk-toggleable {background-color: white;}#sk-container-id-1 label.sk-toggleable__label {cursor: pointer;display: block;width: 100%;margin-bottom: 0;padding: 0.3em;box-sizing: border-box;text-align: center;}#sk-container-id-1 label.sk-toggleable__label-arrow:before {content: \"▸\";float: left;margin-right: 0.25em;color: #696969;}#sk-container-id-1 label.sk-toggleable__label-arrow:hover:before {color: black;}#sk-container-id-1 div.sk-estimator:hover label.sk-toggleable__label-arrow:before {color: black;}#sk-container-id-1 div.sk-toggleable__content {max-height: 0;max-width: 0;overflow: hidden;text-align: left;background-color: #f0f8ff;}#sk-container-id-1 div.sk-toggleable__content pre {margin: 0.2em;color: black;border-radius: 0.25em;background-color: #f0f8ff;}#sk-container-id-1 input.sk-toggleable__control:checked~div.sk-toggleable__content {max-height: 200px;max-width: 100%;overflow: auto;}#sk-container-id-1 input.sk-toggleable__control:checked~label.sk-toggleable__label-arrow:before {content: \"▾\";}#sk-container-id-1 div.sk-estimator input.sk-toggleable__control:checked~label.sk-toggleable__label {background-color: #d4ebff;}#sk-container-id-1 div.sk-label input.sk-toggleable__control:checked~label.sk-toggleable__label {background-color: #d4ebff;}#sk-container-id-1 input.sk-hidden--visually {border: 0;clip: rect(1px 1px 1px 1px);clip: rect(1px, 1px, 1px, 1px);height: 1px;margin: -1px;overflow: hidden;padding: 0;position: absolute;width: 1px;}#sk-container-id-1 div.sk-estimator {font-family: monospace;background-color: #f0f8ff;border: 1px dotted black;border-radius: 0.25em;box-sizing: border-box;margin-bottom: 0.5em;}#sk-container-id-1 div.sk-estimator:hover {background-color: #d4ebff;}#sk-container-id-1 div.sk-parallel-item::after {content: \"\";width: 100%;border-bottom: 1px solid gray;flex-grow: 1;}#sk-container-id-1 div.sk-label:hover label.sk-toggleable__label {background-color: #d4ebff;}#sk-container-id-1 div.sk-serial::before {content: \"\";position: absolute;border-left: 1px solid gray;box-sizing: border-box;top: 0;bottom: 0;left: 50%;z-index: 0;}#sk-container-id-1 div.sk-serial {display: flex;flex-direction: column;align-items: center;background-color: white;padding-right: 0.2em;padding-left: 0.2em;position: relative;}#sk-container-id-1 div.sk-item {position: relative;z-index: 1;}#sk-container-id-1 div.sk-parallel {display: flex;align-items: stretch;justify-content: center;background-color: white;position: relative;}#sk-container-id-1 div.sk-item::before, #sk-container-id-1 div.sk-parallel-item::before {content: \"\";position: absolute;border-left: 1px solid gray;box-sizing: border-box;top: 0;bottom: 0;left: 50%;z-index: -1;}#sk-container-id-1 div.sk-parallel-item {display: flex;flex-direction: column;z-index: 1;position: relative;background-color: white;}#sk-container-id-1 div.sk-parallel-item:first-child::after {align-self: flex-end;width: 50%;}#sk-container-id-1 div.sk-parallel-item:last-child::after {align-self: flex-start;width: 50%;}#sk-container-id-1 div.sk-parallel-item:only-child::after {width: 0;}#sk-container-id-1 div.sk-dashed-wrapped {border: 1px dashed gray;margin: 0 0.4em 0.5em 0.4em;box-sizing: border-box;padding-bottom: 0.4em;background-color: white;}#sk-container-id-1 div.sk-label label {font-family: monospace;font-weight: bold;display: inline-block;line-height: 1.2em;}#sk-container-id-1 div.sk-label-container {text-align: center;}#sk-container-id-1 div.sk-container {/* jupyter's `normalize.less` sets `[hidden] { display: none; }` but bootstrap.min.css set `[hidden] { display: none !important; }` so we also need the `!important` here to be able to override the default hidden behavior on the sphinx rendered scikit-learn.org. See: https://github.com/scikit-learn/scikit-learn/issues/21755 */display: inline-block !important;position: relative;}#sk-container-id-1 div.sk-text-repr-fallback {display: none;}</style><div id=\"sk-container-id-1\" class=\"sk-top-container\"><div class=\"sk-text-repr-fallback\"><pre>ExtraTreesRegressor(n_estimators=50)</pre><b>In a Jupyter environment, please rerun this cell to show the HTML representation or trust the notebook. <br />On GitHub, the HTML representation is unable to render, please try loading this page with nbviewer.org.</b></div><div class=\"sk-container\" hidden><div class=\"sk-item\"><div class=\"sk-estimator sk-toggleable\"><input class=\"sk-toggleable__control sk-hidden--visually\" id=\"sk-estimator-id-1\" type=\"checkbox\" checked><label for=\"sk-estimator-id-1\" class=\"sk-toggleable__label sk-toggleable__label-arrow\">ExtraTreesRegressor</label><div class=\"sk-toggleable__content\"><pre>ExtraTreesRegressor(n_estimators=50)</pre></div></div></div></div></div>"
            ]
          },
          "metadata": {},
          "execution_count": 14
        }
      ]
    },
    {
      "cell_type": "code",
      "source": [
        "# model_svr = SVR()\n",
        "# model_svr.fit(x, y)"
      ],
      "metadata": {
        "id": "XNOvn2JRE0d9"
      },
      "execution_count": 15,
      "outputs": []
    },
    {
      "cell_type": "markdown",
      "source": [
        "# Step 3: Act\n",
        "\n",
        "Now that you have a model that predicts the desired behavior, let's act on it! Modify the code you used to gather data so that you replace the random decision with an intelligent one.\n",
        "\n",
        "We started out winning ~1.5% of the games with the random agent. How well can you do? You should be able to get your model to do at least 10x better (so 15%). Can you get ~50%?\n",
        "\n",
        "If you're having trouble, tune your model. Try different representations of the observation and action spaces. Try different models.\n"
      ],
      "metadata": {
        "id": "lG5ltpMTFCam"
      }
    },
    {
      "cell_type": "code",
      "source": [
        "model = RandomForestRegressor()\n",
        "y = 1*memory_df.reward + memory_df.tot_reward + .1*memory_df.decay_reward\n",
        "x = memory_df[[\"observation\", \"action\"]]\n",
        "model.fit(x, y)"
      ],
      "metadata": {
        "colab": {
          "base_uri": "https://localhost:8080/",
          "height": 75
        },
        "id": "kqvQhej1E8c2",
        "outputId": "7b52f664-7b77-462b-8bb6-8cde0eaf1523"
      },
      "execution_count": 16,
      "outputs": [
        {
          "output_type": "execute_result",
          "data": {
            "text/plain": [
              "RandomForestRegressor()"
            ],
            "text/html": [
              "<style>#sk-container-id-2 {color: black;background-color: white;}#sk-container-id-2 pre{padding: 0;}#sk-container-id-2 div.sk-toggleable {background-color: white;}#sk-container-id-2 label.sk-toggleable__label {cursor: pointer;display: block;width: 100%;margin-bottom: 0;padding: 0.3em;box-sizing: border-box;text-align: center;}#sk-container-id-2 label.sk-toggleable__label-arrow:before {content: \"▸\";float: left;margin-right: 0.25em;color: #696969;}#sk-container-id-2 label.sk-toggleable__label-arrow:hover:before {color: black;}#sk-container-id-2 div.sk-estimator:hover label.sk-toggleable__label-arrow:before {color: black;}#sk-container-id-2 div.sk-toggleable__content {max-height: 0;max-width: 0;overflow: hidden;text-align: left;background-color: #f0f8ff;}#sk-container-id-2 div.sk-toggleable__content pre {margin: 0.2em;color: black;border-radius: 0.25em;background-color: #f0f8ff;}#sk-container-id-2 input.sk-toggleable__control:checked~div.sk-toggleable__content {max-height: 200px;max-width: 100%;overflow: auto;}#sk-container-id-2 input.sk-toggleable__control:checked~label.sk-toggleable__label-arrow:before {content: \"▾\";}#sk-container-id-2 div.sk-estimator input.sk-toggleable__control:checked~label.sk-toggleable__label {background-color: #d4ebff;}#sk-container-id-2 div.sk-label input.sk-toggleable__control:checked~label.sk-toggleable__label {background-color: #d4ebff;}#sk-container-id-2 input.sk-hidden--visually {border: 0;clip: rect(1px 1px 1px 1px);clip: rect(1px, 1px, 1px, 1px);height: 1px;margin: -1px;overflow: hidden;padding: 0;position: absolute;width: 1px;}#sk-container-id-2 div.sk-estimator {font-family: monospace;background-color: #f0f8ff;border: 1px dotted black;border-radius: 0.25em;box-sizing: border-box;margin-bottom: 0.5em;}#sk-container-id-2 div.sk-estimator:hover {background-color: #d4ebff;}#sk-container-id-2 div.sk-parallel-item::after {content: \"\";width: 100%;border-bottom: 1px solid gray;flex-grow: 1;}#sk-container-id-2 div.sk-label:hover label.sk-toggleable__label {background-color: #d4ebff;}#sk-container-id-2 div.sk-serial::before {content: \"\";position: absolute;border-left: 1px solid gray;box-sizing: border-box;top: 0;bottom: 0;left: 50%;z-index: 0;}#sk-container-id-2 div.sk-serial {display: flex;flex-direction: column;align-items: center;background-color: white;padding-right: 0.2em;padding-left: 0.2em;position: relative;}#sk-container-id-2 div.sk-item {position: relative;z-index: 1;}#sk-container-id-2 div.sk-parallel {display: flex;align-items: stretch;justify-content: center;background-color: white;position: relative;}#sk-container-id-2 div.sk-item::before, #sk-container-id-2 div.sk-parallel-item::before {content: \"\";position: absolute;border-left: 1px solid gray;box-sizing: border-box;top: 0;bottom: 0;left: 50%;z-index: -1;}#sk-container-id-2 div.sk-parallel-item {display: flex;flex-direction: column;z-index: 1;position: relative;background-color: white;}#sk-container-id-2 div.sk-parallel-item:first-child::after {align-self: flex-end;width: 50%;}#sk-container-id-2 div.sk-parallel-item:last-child::after {align-self: flex-start;width: 50%;}#sk-container-id-2 div.sk-parallel-item:only-child::after {width: 0;}#sk-container-id-2 div.sk-dashed-wrapped {border: 1px dashed gray;margin: 0 0.4em 0.5em 0.4em;box-sizing: border-box;padding-bottom: 0.4em;background-color: white;}#sk-container-id-2 div.sk-label label {font-family: monospace;font-weight: bold;display: inline-block;line-height: 1.2em;}#sk-container-id-2 div.sk-label-container {text-align: center;}#sk-container-id-2 div.sk-container {/* jupyter's `normalize.less` sets `[hidden] { display: none; }` but bootstrap.min.css set `[hidden] { display: none !important; }` so we also need the `!important` here to be able to override the default hidden behavior on the sphinx rendered scikit-learn.org. See: https://github.com/scikit-learn/scikit-learn/issues/21755 */display: inline-block !important;position: relative;}#sk-container-id-2 div.sk-text-repr-fallback {display: none;}</style><div id=\"sk-container-id-2\" class=\"sk-top-container\"><div class=\"sk-text-repr-fallback\"><pre>RandomForestRegressor()</pre><b>In a Jupyter environment, please rerun this cell to show the HTML representation or trust the notebook. <br />On GitHub, the HTML representation is unable to render, please try loading this page with nbviewer.org.</b></div><div class=\"sk-container\" hidden><div class=\"sk-item\"><div class=\"sk-estimator sk-toggleable\"><input class=\"sk-toggleable__control sk-hidden--visually\" id=\"sk-estimator-id-2\" type=\"checkbox\" checked><label for=\"sk-estimator-id-2\" class=\"sk-toggleable__label sk-toggleable__label-arrow\">RandomForestRegressor</label><div class=\"sk-toggleable__content\"><pre>RandomForestRegressor()</pre></div></div></div></div></div>"
            ]
          },
          "metadata": {},
          "execution_count": 16
        }
      ]
    },
    {
      "cell_type": "code",
      "source": [
        "num_episodes = 500\n",
        "random_per = 0\n",
        "\n",
        "life_memory = []\n",
        "for i in range(num_episodes):\n",
        "    # Start a new episode and record all the memories.\n",
        "    old_observation = env.reset()\n",
        "    done = False\n",
        "    tot_reward = 0\n",
        "    ep_memory = []\n",
        "    while not done:\n",
        "        if np.random.rand() < random_per:\n",
        "            new_action = env.action_space.sample()\n",
        "        else:\n",
        "            pred_in = [[old_observation,i] for i in range(4)]\n",
        "            new_action = np.argmax(model.predict(pred_in))\n",
        "        observation, reward, done, info = env.step(new_action)\n",
        "        tot_reward += reward\n",
        "\n",
        "        ep_memory.append({\n",
        "            \"observation\": old_observation,\n",
        "            \"action\": new_action,\n",
        "            \"reward\": reward,\n",
        "            \"episode\": i,\n",
        "        })\n",
        "        old_observation = observation\n",
        "\n",
        "    # incorporate total reward\n",
        "    for ep_mem in ep_memory:\n",
        "        ep_mem[\"tot_reward\"] = tot_reward\n",
        "\n",
        "    life_memory.extend(ep_memory)\n",
        "\n",
        "memory_df2 = pandas.DataFrame(life_memory)\n",
        "\n",
        "# rf.fit(memory_df[[\"observation\", \"action\"]], memory_df[\"comb_reward\"])\n",
        "\n",
        "# Score\n",
        "# Much better!\n",
        "memory_df2.groupby(\"episode\").reward.sum().mean()"
      ],
      "metadata": {
        "colab": {
          "base_uri": "https://localhost:8080/"
        },
        "id": "7W91U_y9FaeP",
        "outputId": "0f25dd9a-1740-48a9-bd93-d8fae8f3d2eb"
      },
      "execution_count": 17,
      "outputs": [
        {
          "output_type": "execute_result",
          "data": {
            "text/plain": [
              "0.406"
            ]
          },
          "metadata": {},
          "execution_count": 17
        }
      ]
    },
    {
      "cell_type": "code",
      "source": [
        "y = .1*memory_df.reward + 1*memory_df.decay_reward + 1*memory_df.tot_reward"
      ],
      "metadata": {
        "id": "G4d8ykiXFkyj"
      },
      "execution_count": 18,
      "outputs": []
    },
    {
      "cell_type": "markdown",
      "source": [
        "# Extension: Pole cart\n",
        "\n",
        "If time permits, try your hand at pole cart (`env = gym.make('CartPole-v0')`).\n",
        "\n",
        "Notice that the observation space is quite different. It's no longer discrete--instead we have 4 continuous values. You'll have to store these differently from how you did with Frozenlake.\n",
        "\n",
        "My random actor actually does surprisingly well (avg ~22). But my intelligent agent is able to score ~99. Can you beat me?\n"
      ],
      "metadata": {
        "id": "1Zk8Ov9vFwhj"
      }
    },
    {
      "cell_type": "markdown",
      "source": [
        "# Pole cart\n"
      ],
      "metadata": {
        "id": "N-JxHe6sF0gy"
      }
    },
    {
      "cell_type": "code",
      "source": [
        "env = gym.make('CartPole-v1')"
      ],
      "metadata": {
        "id": "qhhto6dbFt_3"
      },
      "execution_count": 19,
      "outputs": []
    },
    {
      "cell_type": "code",
      "source": [
        "# now we can build a toy world!\n",
        "num_episodes = 1000\n",
        "\n",
        "life_memory = []\n",
        "for i in range(num_episodes):\n",
        "\n",
        "    # start a new episode and record all the memories\n",
        "    old_observation = env.reset()\n",
        "    done = False\n",
        "    tot_reward = 0\n",
        "    ep_memory = []\n",
        "    while not done:\n",
        "        new_action = env.action_space.sample()\n",
        "        observation, reward, done, info = env.step(new_action)\n",
        "        tot_reward += reward\n",
        "\n",
        "        ep_memory.append({\n",
        "            \"obs0\": old_observation[0],\n",
        "            \"obs1\": old_observation[1],\n",
        "            \"obs2\": old_observation[2],\n",
        "            \"obs3\": old_observation[3],\n",
        "            \"action\": new_action,\n",
        "            \"reward\": reward,\n",
        "            \"episode\": i,\n",
        "        })\n",
        "        old_observation = observation\n",
        "\n",
        "    # incorporate total reward\n",
        "    for ep_mem in ep_memory:\n",
        "        ep_mem[\"tot_reward\"] = tot_reward\n",
        "\n",
        "    life_memory.extend(ep_memory)\n",
        "\n",
        "memory_df = pandas.DataFrame(life_memory)\n",
        "\n",
        "memory_df.groupby(\"episode\").reward.sum().mean()"
      ],
      "metadata": {
        "colab": {
          "base_uri": "https://localhost:8080/"
        },
        "id": "oCdbCE25F6Tg",
        "outputId": "aac536a5-5b5e-4dbe-ee2c-e129cf1cafd2"
      },
      "execution_count": 20,
      "outputs": [
        {
          "output_type": "execute_result",
          "data": {
            "text/plain": [
              "22.257"
            ]
          },
          "metadata": {},
          "execution_count": 20
        }
      ]
    },
    {
      "cell_type": "code",
      "source": [
        "memory_df.describe()"
      ],
      "metadata": {
        "colab": {
          "base_uri": "https://localhost:8080/",
          "height": 300
        },
        "id": "q8_qAc9xF_Ih",
        "outputId": "e29593cb-0f81-44f9-8433-eb8687be9e65"
      },
      "execution_count": 21,
      "outputs": [
        {
          "output_type": "execute_result",
          "data": {
            "text/plain": [
              "               obs0          obs1          obs2          obs3        action  \\\n",
              "count  22257.000000  22257.000000  22257.000000  22257.000000  22257.000000   \n",
              "mean       0.000323     -0.011769      0.001191      0.020783      0.494811   \n",
              "std        0.092939      0.537241      0.091389      0.787966      0.499984   \n",
              "min       -0.972825     -2.327560     -0.209421     -2.876830      0.000000   \n",
              "25%       -0.041547     -0.366714     -0.051521     -0.492022      0.000000   \n",
              "50%        0.000437     -0.004281      0.001792      0.007176      0.000000   \n",
              "75%        0.041657      0.349510      0.053877      0.541521      1.000000   \n",
              "max        0.982609      2.424260      0.209385      3.050226      1.000000   \n",
              "\n",
              "        reward       episode    tot_reward  \n",
              "count  22257.0  22257.000000  22257.000000  \n",
              "mean       1.0    503.340387     29.080784  \n",
              "std        0.0    288.989190     16.804676  \n",
              "min        1.0      0.000000      8.000000  \n",
              "25%        1.0    257.000000     17.000000  \n",
              "50%        1.0    503.000000     25.000000  \n",
              "75%        1.0    748.000000     36.000000  \n",
              "max        1.0    999.000000    104.000000  "
            ],
            "text/html": [
              "\n",
              "  <div id=\"df-0a1480b5-584c-484e-beec-66e6036f1b98\" class=\"colab-df-container\">\n",
              "    <div>\n",
              "<style scoped>\n",
              "    .dataframe tbody tr th:only-of-type {\n",
              "        vertical-align: middle;\n",
              "    }\n",
              "\n",
              "    .dataframe tbody tr th {\n",
              "        vertical-align: top;\n",
              "    }\n",
              "\n",
              "    .dataframe thead th {\n",
              "        text-align: right;\n",
              "    }\n",
              "</style>\n",
              "<table border=\"1\" class=\"dataframe\">\n",
              "  <thead>\n",
              "    <tr style=\"text-align: right;\">\n",
              "      <th></th>\n",
              "      <th>obs0</th>\n",
              "      <th>obs1</th>\n",
              "      <th>obs2</th>\n",
              "      <th>obs3</th>\n",
              "      <th>action</th>\n",
              "      <th>reward</th>\n",
              "      <th>episode</th>\n",
              "      <th>tot_reward</th>\n",
              "    </tr>\n",
              "  </thead>\n",
              "  <tbody>\n",
              "    <tr>\n",
              "      <th>count</th>\n",
              "      <td>22257.000000</td>\n",
              "      <td>22257.000000</td>\n",
              "      <td>22257.000000</td>\n",
              "      <td>22257.000000</td>\n",
              "      <td>22257.000000</td>\n",
              "      <td>22257.0</td>\n",
              "      <td>22257.000000</td>\n",
              "      <td>22257.000000</td>\n",
              "    </tr>\n",
              "    <tr>\n",
              "      <th>mean</th>\n",
              "      <td>0.000323</td>\n",
              "      <td>-0.011769</td>\n",
              "      <td>0.001191</td>\n",
              "      <td>0.020783</td>\n",
              "      <td>0.494811</td>\n",
              "      <td>1.0</td>\n",
              "      <td>503.340387</td>\n",
              "      <td>29.080784</td>\n",
              "    </tr>\n",
              "    <tr>\n",
              "      <th>std</th>\n",
              "      <td>0.092939</td>\n",
              "      <td>0.537241</td>\n",
              "      <td>0.091389</td>\n",
              "      <td>0.787966</td>\n",
              "      <td>0.499984</td>\n",
              "      <td>0.0</td>\n",
              "      <td>288.989190</td>\n",
              "      <td>16.804676</td>\n",
              "    </tr>\n",
              "    <tr>\n",
              "      <th>min</th>\n",
              "      <td>-0.972825</td>\n",
              "      <td>-2.327560</td>\n",
              "      <td>-0.209421</td>\n",
              "      <td>-2.876830</td>\n",
              "      <td>0.000000</td>\n",
              "      <td>1.0</td>\n",
              "      <td>0.000000</td>\n",
              "      <td>8.000000</td>\n",
              "    </tr>\n",
              "    <tr>\n",
              "      <th>25%</th>\n",
              "      <td>-0.041547</td>\n",
              "      <td>-0.366714</td>\n",
              "      <td>-0.051521</td>\n",
              "      <td>-0.492022</td>\n",
              "      <td>0.000000</td>\n",
              "      <td>1.0</td>\n",
              "      <td>257.000000</td>\n",
              "      <td>17.000000</td>\n",
              "    </tr>\n",
              "    <tr>\n",
              "      <th>50%</th>\n",
              "      <td>0.000437</td>\n",
              "      <td>-0.004281</td>\n",
              "      <td>0.001792</td>\n",
              "      <td>0.007176</td>\n",
              "      <td>0.000000</td>\n",
              "      <td>1.0</td>\n",
              "      <td>503.000000</td>\n",
              "      <td>25.000000</td>\n",
              "    </tr>\n",
              "    <tr>\n",
              "      <th>75%</th>\n",
              "      <td>0.041657</td>\n",
              "      <td>0.349510</td>\n",
              "      <td>0.053877</td>\n",
              "      <td>0.541521</td>\n",
              "      <td>1.000000</td>\n",
              "      <td>1.0</td>\n",
              "      <td>748.000000</td>\n",
              "      <td>36.000000</td>\n",
              "    </tr>\n",
              "    <tr>\n",
              "      <th>max</th>\n",
              "      <td>0.982609</td>\n",
              "      <td>2.424260</td>\n",
              "      <td>0.209385</td>\n",
              "      <td>3.050226</td>\n",
              "      <td>1.000000</td>\n",
              "      <td>1.0</td>\n",
              "      <td>999.000000</td>\n",
              "      <td>104.000000</td>\n",
              "    </tr>\n",
              "  </tbody>\n",
              "</table>\n",
              "</div>\n",
              "    <div class=\"colab-df-buttons\">\n",
              "\n",
              "  <div class=\"colab-df-container\">\n",
              "    <button class=\"colab-df-convert\" onclick=\"convertToInteractive('df-0a1480b5-584c-484e-beec-66e6036f1b98')\"\n",
              "            title=\"Convert this dataframe to an interactive table.\"\n",
              "            style=\"display:none;\">\n",
              "\n",
              "  <svg xmlns=\"http://www.w3.org/2000/svg\" height=\"24px\" viewBox=\"0 -960 960 960\">\n",
              "    <path d=\"M120-120v-720h720v720H120Zm60-500h600v-160H180v160Zm220 220h160v-160H400v160Zm0 220h160v-160H400v160ZM180-400h160v-160H180v160Zm440 0h160v-160H620v160ZM180-180h160v-160H180v160Zm440 0h160v-160H620v160Z\"/>\n",
              "  </svg>\n",
              "    </button>\n",
              "\n",
              "  <style>\n",
              "    .colab-df-container {\n",
              "      display:flex;\n",
              "      gap: 12px;\n",
              "    }\n",
              "\n",
              "    .colab-df-convert {\n",
              "      background-color: #E8F0FE;\n",
              "      border: none;\n",
              "      border-radius: 50%;\n",
              "      cursor: pointer;\n",
              "      display: none;\n",
              "      fill: #1967D2;\n",
              "      height: 32px;\n",
              "      padding: 0 0 0 0;\n",
              "      width: 32px;\n",
              "    }\n",
              "\n",
              "    .colab-df-convert:hover {\n",
              "      background-color: #E2EBFA;\n",
              "      box-shadow: 0px 1px 2px rgba(60, 64, 67, 0.3), 0px 1px 3px 1px rgba(60, 64, 67, 0.15);\n",
              "      fill: #174EA6;\n",
              "    }\n",
              "\n",
              "    .colab-df-buttons div {\n",
              "      margin-bottom: 4px;\n",
              "    }\n",
              "\n",
              "    [theme=dark] .colab-df-convert {\n",
              "      background-color: #3B4455;\n",
              "      fill: #D2E3FC;\n",
              "    }\n",
              "\n",
              "    [theme=dark] .colab-df-convert:hover {\n",
              "      background-color: #434B5C;\n",
              "      box-shadow: 0px 1px 3px 1px rgba(0, 0, 0, 0.15);\n",
              "      filter: drop-shadow(0px 1px 2px rgba(0, 0, 0, 0.3));\n",
              "      fill: #FFFFFF;\n",
              "    }\n",
              "  </style>\n",
              "\n",
              "    <script>\n",
              "      const buttonEl =\n",
              "        document.querySelector('#df-0a1480b5-584c-484e-beec-66e6036f1b98 button.colab-df-convert');\n",
              "      buttonEl.style.display =\n",
              "        google.colab.kernel.accessAllowed ? 'block' : 'none';\n",
              "\n",
              "      async function convertToInteractive(key) {\n",
              "        const element = document.querySelector('#df-0a1480b5-584c-484e-beec-66e6036f1b98');\n",
              "        const dataTable =\n",
              "          await google.colab.kernel.invokeFunction('convertToInteractive',\n",
              "                                                    [key], {});\n",
              "        if (!dataTable) return;\n",
              "\n",
              "        const docLinkHtml = 'Like what you see? Visit the ' +\n",
              "          '<a target=\"_blank\" href=https://colab.research.google.com/notebooks/data_table.ipynb>data table notebook</a>'\n",
              "          + ' to learn more about interactive tables.';\n",
              "        element.innerHTML = '';\n",
              "        dataTable['output_type'] = 'display_data';\n",
              "        await google.colab.output.renderOutput(dataTable, element);\n",
              "        const docLink = document.createElement('div');\n",
              "        docLink.innerHTML = docLinkHtml;\n",
              "        element.appendChild(docLink);\n",
              "      }\n",
              "    </script>\n",
              "  </div>\n",
              "\n",
              "\n",
              "<div id=\"df-8106a258-20ac-40c4-b943-1a479c5e19f5\">\n",
              "  <button class=\"colab-df-quickchart\" onclick=\"quickchart('df-8106a258-20ac-40c4-b943-1a479c5e19f5')\"\n",
              "            title=\"Suggest charts\"\n",
              "            style=\"display:none;\">\n",
              "\n",
              "<svg xmlns=\"http://www.w3.org/2000/svg\" height=\"24px\"viewBox=\"0 0 24 24\"\n",
              "     width=\"24px\">\n",
              "    <g>\n",
              "        <path d=\"M19 3H5c-1.1 0-2 .9-2 2v14c0 1.1.9 2 2 2h14c1.1 0 2-.9 2-2V5c0-1.1-.9-2-2-2zM9 17H7v-7h2v7zm4 0h-2V7h2v10zm4 0h-2v-4h2v4z\"/>\n",
              "    </g>\n",
              "</svg>\n",
              "  </button>\n",
              "\n",
              "<style>\n",
              "  .colab-df-quickchart {\n",
              "      --bg-color: #E8F0FE;\n",
              "      --fill-color: #1967D2;\n",
              "      --hover-bg-color: #E2EBFA;\n",
              "      --hover-fill-color: #174EA6;\n",
              "      --disabled-fill-color: #AAA;\n",
              "      --disabled-bg-color: #DDD;\n",
              "  }\n",
              "\n",
              "  [theme=dark] .colab-df-quickchart {\n",
              "      --bg-color: #3B4455;\n",
              "      --fill-color: #D2E3FC;\n",
              "      --hover-bg-color: #434B5C;\n",
              "      --hover-fill-color: #FFFFFF;\n",
              "      --disabled-bg-color: #3B4455;\n",
              "      --disabled-fill-color: #666;\n",
              "  }\n",
              "\n",
              "  .colab-df-quickchart {\n",
              "    background-color: var(--bg-color);\n",
              "    border: none;\n",
              "    border-radius: 50%;\n",
              "    cursor: pointer;\n",
              "    display: none;\n",
              "    fill: var(--fill-color);\n",
              "    height: 32px;\n",
              "    padding: 0;\n",
              "    width: 32px;\n",
              "  }\n",
              "\n",
              "  .colab-df-quickchart:hover {\n",
              "    background-color: var(--hover-bg-color);\n",
              "    box-shadow: 0 1px 2px rgba(60, 64, 67, 0.3), 0 1px 3px 1px rgba(60, 64, 67, 0.15);\n",
              "    fill: var(--button-hover-fill-color);\n",
              "  }\n",
              "\n",
              "  .colab-df-quickchart-complete:disabled,\n",
              "  .colab-df-quickchart-complete:disabled:hover {\n",
              "    background-color: var(--disabled-bg-color);\n",
              "    fill: var(--disabled-fill-color);\n",
              "    box-shadow: none;\n",
              "  }\n",
              "\n",
              "  .colab-df-spinner {\n",
              "    border: 2px solid var(--fill-color);\n",
              "    border-color: transparent;\n",
              "    border-bottom-color: var(--fill-color);\n",
              "    animation:\n",
              "      spin 1s steps(1) infinite;\n",
              "  }\n",
              "\n",
              "  @keyframes spin {\n",
              "    0% {\n",
              "      border-color: transparent;\n",
              "      border-bottom-color: var(--fill-color);\n",
              "      border-left-color: var(--fill-color);\n",
              "    }\n",
              "    20% {\n",
              "      border-color: transparent;\n",
              "      border-left-color: var(--fill-color);\n",
              "      border-top-color: var(--fill-color);\n",
              "    }\n",
              "    30% {\n",
              "      border-color: transparent;\n",
              "      border-left-color: var(--fill-color);\n",
              "      border-top-color: var(--fill-color);\n",
              "      border-right-color: var(--fill-color);\n",
              "    }\n",
              "    40% {\n",
              "      border-color: transparent;\n",
              "      border-right-color: var(--fill-color);\n",
              "      border-top-color: var(--fill-color);\n",
              "    }\n",
              "    60% {\n",
              "      border-color: transparent;\n",
              "      border-right-color: var(--fill-color);\n",
              "    }\n",
              "    80% {\n",
              "      border-color: transparent;\n",
              "      border-right-color: var(--fill-color);\n",
              "      border-bottom-color: var(--fill-color);\n",
              "    }\n",
              "    90% {\n",
              "      border-color: transparent;\n",
              "      border-bottom-color: var(--fill-color);\n",
              "    }\n",
              "  }\n",
              "</style>\n",
              "\n",
              "  <script>\n",
              "    async function quickchart(key) {\n",
              "      const quickchartButtonEl =\n",
              "        document.querySelector('#' + key + ' button');\n",
              "      quickchartButtonEl.disabled = true;  // To prevent multiple clicks.\n",
              "      quickchartButtonEl.classList.add('colab-df-spinner');\n",
              "      try {\n",
              "        const charts = await google.colab.kernel.invokeFunction(\n",
              "            'suggestCharts', [key], {});\n",
              "      } catch (error) {\n",
              "        console.error('Error during call to suggestCharts:', error);\n",
              "      }\n",
              "      quickchartButtonEl.classList.remove('colab-df-spinner');\n",
              "      quickchartButtonEl.classList.add('colab-df-quickchart-complete');\n",
              "    }\n",
              "    (() => {\n",
              "      let quickchartButtonEl =\n",
              "        document.querySelector('#df-8106a258-20ac-40c4-b943-1a479c5e19f5 button');\n",
              "      quickchartButtonEl.style.display =\n",
              "        google.colab.kernel.accessAllowed ? 'block' : 'none';\n",
              "    })();\n",
              "  </script>\n",
              "</div>\n",
              "\n",
              "    </div>\n",
              "  </div>\n"
            ],
            "application/vnd.google.colaboratory.intrinsic+json": {
              "type": "dataframe",
              "summary": "{\n  \"name\": \"memory_df\",\n  \"rows\": 8,\n  \"fields\": [\n    {\n      \"column\": \"obs0\",\n      \"properties\": {\n        \"dtype\": \"number\",\n        \"std\": 7869.032599678339,\n        \"min\": -0.9728248715400696,\n        \"max\": 22257.0,\n        \"num_unique_values\": 8,\n        \"samples\": [\n          0.0003233610186725855,\n          0.0004367979709059,\n          22257.0\n        ],\n        \"semantic_type\": \"\",\n        \"description\": \"\"\n      }\n    },\n    {\n      \"column\": \"obs1\",\n      \"properties\": {\n        \"dtype\": \"number\",\n        \"std\": 7869.007582149371,\n        \"min\": -2.32755970954895,\n        \"max\": 22257.0,\n        \"num_unique_values\": 8,\n        \"samples\": [\n          -0.011768687516450882,\n          -0.004281150177121162,\n          22257.0\n        ],\n        \"semantic_type\": \"\",\n        \"description\": \"\"\n      }\n    },\n    {\n      \"column\": \"obs2\",\n      \"properties\": {\n        \"dtype\": \"number\",\n        \"std\": 7869.032931696709,\n        \"min\": -0.2094212919473648,\n        \"max\": 22257.0,\n        \"num_unique_values\": 8,\n        \"samples\": [\n          0.0011907140724360943,\n          0.0017916139913722873,\n          22257.0\n        ],\n        \"semantic_type\": \"\",\n        \"description\": \"\"\n      }\n    },\n    {\n      \"column\": \"obs3\",\n      \"properties\": {\n        \"dtype\": \"number\",\n        \"std\": 7868.985514844871,\n        \"min\": -2.8768303394317627,\n        \"max\": 22257.0,\n        \"num_unique_values\": 8,\n        \"samples\": [\n          0.02078252285718918,\n          0.007175559643656015,\n          22257.0\n        ],\n        \"semantic_type\": \"\",\n        \"description\": \"\"\n      }\n    },\n    {\n      \"column\": \"action\",\n      \"properties\": {\n        \"dtype\": \"number\",\n        \"std\": 7868.886565464835,\n        \"min\": 0.0,\n        \"max\": 22257.0,\n        \"num_unique_values\": 5,\n        \"samples\": [\n          0.49481062137754417,\n          1.0,\n          0.4999843018190374\n        ],\n        \"semantic_type\": \"\",\n        \"description\": \"\"\n      }\n    },\n    {\n      \"column\": \"reward\",\n      \"properties\": {\n        \"dtype\": \"number\",\n        \"std\": 7868.734776451857,\n        \"min\": 0.0,\n        \"max\": 22257.0,\n        \"num_unique_values\": 3,\n        \"samples\": [\n          22257.0,\n          1.0,\n          0.0\n        ],\n        \"semantic_type\": \"\",\n        \"description\": \"\"\n      }\n    },\n    {\n      \"column\": \"episode\",\n      \"properties\": {\n        \"dtype\": \"number\",\n        \"std\": 7708.4993037950635,\n        \"min\": 0.0,\n        \"max\": 22257.0,\n        \"num_unique_values\": 8,\n        \"samples\": [\n          503.34038729388504,\n          503.0,\n          22257.0\n        ],\n        \"semantic_type\": \"\",\n        \"description\": \"\"\n      }\n    },\n    {\n      \"column\": \"tot_reward\",\n      \"properties\": {\n        \"dtype\": \"number\",\n        \"std\": 7857.180792581141,\n        \"min\": 8.0,\n        \"max\": 22257.0,\n        \"num_unique_values\": 8,\n        \"samples\": [\n          29.080783573707148,\n          25.0,\n          22257.0\n        ],\n        \"semantic_type\": \"\",\n        \"description\": \"\"\n      }\n    }\n  ]\n}"
            }
          },
          "metadata": {},
          "execution_count": 21
        }
      ]
    },
    {
      "cell_type": "code",
      "source": [
        "from sklearn.ensemble import RandomForestRegressor, AdaBoostRegressor, ExtraTreesRegressor\n",
        "\n",
        "model = ExtraTreesRegressor(n_estimators=50)\n",
        "\n",
        "memory_df[\"comb_reward\"] = .5*memory_df.reward + memory_df.tot_reward\n",
        "model.fit(memory_df[[\"obs0\", \"obs1\", \"obs2\", \"obs3\", \"action\"]], memory_df.comb_reward)"
      ],
      "metadata": {
        "colab": {
          "base_uri": "https://localhost:8080/",
          "height": 75
        },
        "id": "rzXEg2DMGI7x",
        "outputId": "cb3f9bd1-61f9-4385-f95c-e4613a3005c8"
      },
      "execution_count": 22,
      "outputs": [
        {
          "output_type": "execute_result",
          "data": {
            "text/plain": [
              "ExtraTreesRegressor(n_estimators=50)"
            ],
            "text/html": [
              "<style>#sk-container-id-3 {color: black;background-color: white;}#sk-container-id-3 pre{padding: 0;}#sk-container-id-3 div.sk-toggleable {background-color: white;}#sk-container-id-3 label.sk-toggleable__label {cursor: pointer;display: block;width: 100%;margin-bottom: 0;padding: 0.3em;box-sizing: border-box;text-align: center;}#sk-container-id-3 label.sk-toggleable__label-arrow:before {content: \"▸\";float: left;margin-right: 0.25em;color: #696969;}#sk-container-id-3 label.sk-toggleable__label-arrow:hover:before {color: black;}#sk-container-id-3 div.sk-estimator:hover label.sk-toggleable__label-arrow:before {color: black;}#sk-container-id-3 div.sk-toggleable__content {max-height: 0;max-width: 0;overflow: hidden;text-align: left;background-color: #f0f8ff;}#sk-container-id-3 div.sk-toggleable__content pre {margin: 0.2em;color: black;border-radius: 0.25em;background-color: #f0f8ff;}#sk-container-id-3 input.sk-toggleable__control:checked~div.sk-toggleable__content {max-height: 200px;max-width: 100%;overflow: auto;}#sk-container-id-3 input.sk-toggleable__control:checked~label.sk-toggleable__label-arrow:before {content: \"▾\";}#sk-container-id-3 div.sk-estimator input.sk-toggleable__control:checked~label.sk-toggleable__label {background-color: #d4ebff;}#sk-container-id-3 div.sk-label input.sk-toggleable__control:checked~label.sk-toggleable__label {background-color: #d4ebff;}#sk-container-id-3 input.sk-hidden--visually {border: 0;clip: rect(1px 1px 1px 1px);clip: rect(1px, 1px, 1px, 1px);height: 1px;margin: -1px;overflow: hidden;padding: 0;position: absolute;width: 1px;}#sk-container-id-3 div.sk-estimator {font-family: monospace;background-color: #f0f8ff;border: 1px dotted black;border-radius: 0.25em;box-sizing: border-box;margin-bottom: 0.5em;}#sk-container-id-3 div.sk-estimator:hover {background-color: #d4ebff;}#sk-container-id-3 div.sk-parallel-item::after {content: \"\";width: 100%;border-bottom: 1px solid gray;flex-grow: 1;}#sk-container-id-3 div.sk-label:hover label.sk-toggleable__label {background-color: #d4ebff;}#sk-container-id-3 div.sk-serial::before {content: \"\";position: absolute;border-left: 1px solid gray;box-sizing: border-box;top: 0;bottom: 0;left: 50%;z-index: 0;}#sk-container-id-3 div.sk-serial {display: flex;flex-direction: column;align-items: center;background-color: white;padding-right: 0.2em;padding-left: 0.2em;position: relative;}#sk-container-id-3 div.sk-item {position: relative;z-index: 1;}#sk-container-id-3 div.sk-parallel {display: flex;align-items: stretch;justify-content: center;background-color: white;position: relative;}#sk-container-id-3 div.sk-item::before, #sk-container-id-3 div.sk-parallel-item::before {content: \"\";position: absolute;border-left: 1px solid gray;box-sizing: border-box;top: 0;bottom: 0;left: 50%;z-index: -1;}#sk-container-id-3 div.sk-parallel-item {display: flex;flex-direction: column;z-index: 1;position: relative;background-color: white;}#sk-container-id-3 div.sk-parallel-item:first-child::after {align-self: flex-end;width: 50%;}#sk-container-id-3 div.sk-parallel-item:last-child::after {align-self: flex-start;width: 50%;}#sk-container-id-3 div.sk-parallel-item:only-child::after {width: 0;}#sk-container-id-3 div.sk-dashed-wrapped {border: 1px dashed gray;margin: 0 0.4em 0.5em 0.4em;box-sizing: border-box;padding-bottom: 0.4em;background-color: white;}#sk-container-id-3 div.sk-label label {font-family: monospace;font-weight: bold;display: inline-block;line-height: 1.2em;}#sk-container-id-3 div.sk-label-container {text-align: center;}#sk-container-id-3 div.sk-container {/* jupyter's `normalize.less` sets `[hidden] { display: none; }` but bootstrap.min.css set `[hidden] { display: none !important; }` so we also need the `!important` here to be able to override the default hidden behavior on the sphinx rendered scikit-learn.org. See: https://github.com/scikit-learn/scikit-learn/issues/21755 */display: inline-block !important;position: relative;}#sk-container-id-3 div.sk-text-repr-fallback {display: none;}</style><div id=\"sk-container-id-3\" class=\"sk-top-container\"><div class=\"sk-text-repr-fallback\"><pre>ExtraTreesRegressor(n_estimators=50)</pre><b>In a Jupyter environment, please rerun this cell to show the HTML representation or trust the notebook. <br />On GitHub, the HTML representation is unable to render, please try loading this page with nbviewer.org.</b></div><div class=\"sk-container\" hidden><div class=\"sk-item\"><div class=\"sk-estimator sk-toggleable\"><input class=\"sk-toggleable__control sk-hidden--visually\" id=\"sk-estimator-id-3\" type=\"checkbox\" checked><label for=\"sk-estimator-id-3\" class=\"sk-toggleable__label sk-toggleable__label-arrow\">ExtraTreesRegressor</label><div class=\"sk-toggleable__content\"><pre>ExtraTreesRegressor(n_estimators=50)</pre></div></div></div></div></div>"
            ]
          },
          "metadata": {},
          "execution_count": 22
        }
      ]
    },
    {
      "cell_type": "code",
      "source": [
        "num_episodes = 100\n",
        "random_per = 0\n",
        "\n",
        "life_memory = []\n",
        "for i in range(num_episodes):\n",
        "\n",
        "    # start a new episode and record all the memories\n",
        "    old_observation = env.reset()\n",
        "    done = False\n",
        "    tot_reward = 0\n",
        "    ep_memory = []\n",
        "    while not done:\n",
        "\n",
        "\n",
        "        if np.random.rand() < random_per:\n",
        "            new_action = env.action_space.sample()\n",
        "        else:\n",
        "            pred_in = [list(old_observation)+[i] for i in range(2)]\n",
        "            new_action = np.argmax(model.predict(pred_in))\n",
        "        observation, reward, done, info = env.step(new_action)\n",
        "        tot_reward += reward\n",
        "\n",
        "        ep_memory.append({\n",
        "            \"obs0\": old_observation[0],\n",
        "            \"obs1\": old_observation[1],\n",
        "            \"obs2\": old_observation[2],\n",
        "            \"obs3\": old_observation[3],\n",
        "            \"action\": new_action,\n",
        "            \"reward\": reward,\n",
        "            \"episode\": i,\n",
        "        })\n",
        "        old_observation = observation\n",
        "\n",
        "    # incorporate total reward\n",
        "    for ep_mem in ep_memory:\n",
        "        ep_mem[\"tot_reward\"] = tot_reward\n",
        "\n",
        "    life_memory.extend(ep_memory)\n",
        "\n",
        "memory_df2 = pandas.DataFrame(life_memory)\n",
        "memory_df2[\"comb_reward\"] = memory_df2.reward + memory_df2.tot_reward\n",
        "\n",
        "# score\n",
        "# much better!\n",
        "memory_df2.groupby(\"episode\").reward.sum().mean()"
      ],
      "metadata": {
        "colab": {
          "base_uri": "https://localhost:8080/"
        },
        "id": "nWua7OjIGLoH",
        "outputId": "9f363327-04f3-4fe5-f720-3c5e36e4ee9b"
      },
      "execution_count": 23,
      "outputs": [
        {
          "output_type": "execute_result",
          "data": {
            "text/plain": [
              "127.94"
            ]
          },
          "metadata": {},
          "execution_count": 23
        }
      ]
    },
    {
      "cell_type": "code",
      "source": [],
      "metadata": {
        "id": "KGpoCCaqGQVg"
      },
      "execution_count": null,
      "outputs": []
    }
  ]
}