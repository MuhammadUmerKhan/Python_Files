{
 "cells": [
  {
   "cell_type": "code",
   "execution_count": 1,
   "metadata": {},
   "outputs": [],
   "source": [
    "import numpy as np"
   ]
  },
  {
   "cell_type": "code",
   "execution_count": 2,
   "metadata": {},
   "outputs": [
    {
     "name": "stdout",
     "output_type": "stream",
     "text": [
      "WARNING:tensorflow:From C:\\Users\\Muhammad Umer Khan\\anaconda3\\Lib\\site-packages\\keras\\src\\losses.py:2976: The name tf.losses.sparse_softmax_cross_entropy is deprecated. Please use tf.compat.v1.losses.sparse_softmax_cross_entropy instead.\n",
      "\n"
     ]
    }
   ],
   "source": [
    "import tensorflow as tf"
   ]
  },
  {
   "cell_type": "code",
   "execution_count": 3,
   "metadata": {},
   "outputs": [],
   "source": [
    "from tensorflow.keras.preprocessing.text import one_hot\n",
    "from tensorflow.keras.preprocessing.sequence import pad_sequences\n",
    "from tensorflow.keras.models import Sequential\n",
    "from tensorflow.keras.layers import Dense\n",
    "from tensorflow.keras.layers import Flatten\n",
    "from tensorflow.keras.layers import Embedding"
   ]
  },
  {
   "cell_type": "code",
   "execution_count": 4,
   "metadata": {},
   "outputs": [],
   "source": [
    "reviews = ['nice food',\n",
    "        'amazing restaurant',\n",
    "        'too good',\n",
    "        'just loved it!',\n",
    "        'will go again',\n",
    "        'horrible food',\n",
    "        'never go there',\n",
    "        'poor service',\n",
    "        'poor quality',\n",
    "        'needs improvement']\n",
    "sentiment = np.array([1,1,1,1,1,0,0,0,0,0])"
   ]
  },
  {
   "cell_type": "code",
   "execution_count": 6,
   "metadata": {},
   "outputs": [
    {
     "data": {
      "text/plain": [
       "[23, 18]"
      ]
     },
     "execution_count": 6,
     "metadata": {},
     "output_type": "execute_result"
    }
   ],
   "source": [
    "one_hot('nice food', 30)"
   ]
  },
  {
   "cell_type": "code",
   "execution_count": 9,
   "metadata": {},
   "outputs": [],
   "source": [
    "vocab_size = 30\n",
    "encoded_reviews = [one_hot(d, vocab_size) for d in reviews]"
   ]
  },
  {
   "cell_type": "code",
   "execution_count": 10,
   "metadata": {},
   "outputs": [
    {
     "data": {
      "text/plain": [
       "[[23, 18],\n",
       " [1, 9],\n",
       " [17, 20],\n",
       " [15, 19, 17],\n",
       " [7, 1, 21],\n",
       " [22, 18],\n",
       " [24, 1, 8],\n",
       " [27, 17],\n",
       " [27, 15],\n",
       " [17, 20]]"
      ]
     },
     "execution_count": 10,
     "metadata": {},
     "output_type": "execute_result"
    }
   ],
   "source": [
    "encoded_reviews"
   ]
  },
  {
   "cell_type": "code",
   "execution_count": 11,
   "metadata": {},
   "outputs": [],
   "source": [
    "max_length = 4\n",
    "padding_reviews = pad_sequences(encoded_reviews, maxlen=max_length, padding='post')"
   ]
  },
  {
   "cell_type": "code",
   "execution_count": 12,
   "metadata": {},
   "outputs": [
    {
     "data": {
      "text/plain": [
       "array([[23, 18,  0,  0],\n",
       "       [ 1,  9,  0,  0],\n",
       "       [17, 20,  0,  0],\n",
       "       [15, 19, 17,  0],\n",
       "       [ 7,  1, 21,  0],\n",
       "       [22, 18,  0,  0],\n",
       "       [24,  1,  8,  0],\n",
       "       [27, 17,  0,  0],\n",
       "       [27, 15,  0,  0],\n",
       "       [17, 20,  0,  0]])"
      ]
     },
     "execution_count": 12,
     "metadata": {},
     "output_type": "execute_result"
    }
   ],
   "source": [
    "padding_reviews"
   ]
  },
  {
   "cell_type": "code",
   "execution_count": 13,
   "metadata": {},
   "outputs": [
    {
     "name": "stdout",
     "output_type": "stream",
     "text": [
      "WARNING:tensorflow:From C:\\Users\\Muhammad Umer Khan\\anaconda3\\Lib\\site-packages\\keras\\src\\backend.py:873: The name tf.get_default_graph is deprecated. Please use tf.compat.v1.get_default_graph instead.\n",
      "\n"
     ]
    }
   ],
   "source": [
    "embeded_vector_size = 5\n",
    "model = Sequential()\n",
    "model.add(Embedding(vocab_size, embeded_vector_size, input_length=max_length, name='embedding'))\n",
    "model.add(Flatten())\n",
    "model.add(Dense(1, activation='sigmoid'))"
   ]
  },
  {
   "cell_type": "code",
   "execution_count": 14,
   "metadata": {},
   "outputs": [],
   "source": [
    "x = padding_reviews\n",
    "y = sentiment"
   ]
  },
  {
   "cell_type": "code",
   "execution_count": 15,
   "metadata": {},
   "outputs": [
    {
     "name": "stdout",
     "output_type": "stream",
     "text": [
      "WARNING:tensorflow:From C:\\Users\\Muhammad Umer Khan\\anaconda3\\Lib\\site-packages\\keras\\src\\optimizers\\__init__.py:309: The name tf.train.Optimizer is deprecated. Please use tf.compat.v1.train.Optimizer instead.\n",
      "\n",
      "Model: \"sequential\"\n",
      "_________________________________________________________________\n",
      " Layer (type)                Output Shape              Param #   \n",
      "=================================================================\n",
      " embedding (Embedding)       (None, 4, 5)              150       \n",
      "                                                                 \n",
      " flatten (Flatten)           (None, 20)                0         \n",
      "                                                                 \n",
      " dense (Dense)               (None, 1)                 21        \n",
      "                                                                 \n",
      "=================================================================\n",
      "Total params: 171 (684.00 Byte)\n",
      "Trainable params: 171 (684.00 Byte)\n",
      "Non-trainable params: 0 (0.00 Byte)\n",
      "_________________________________________________________________\n",
      "None\n"
     ]
    }
   ],
   "source": [
    "model.compile(optimizer='adam', loss='binary_crossentropy', metrics=['accuracy'])\n",
    "print(model.summary())"
   ]
  },
  {
   "cell_type": "code",
   "execution_count": 16,
   "metadata": {},
   "outputs": [
    {
     "name": "stdout",
     "output_type": "stream",
     "text": [
      "WARNING:tensorflow:From C:\\Users\\Muhammad Umer Khan\\anaconda3\\Lib\\site-packages\\keras\\src\\utils\\tf_utils.py:492: The name tf.ragged.RaggedTensorValue is deprecated. Please use tf.compat.v1.ragged.RaggedTensorValue instead.\n",
      "\n",
      "WARNING:tensorflow:From C:\\Users\\Muhammad Umer Khan\\anaconda3\\Lib\\site-packages\\keras\\src\\engine\\base_layer_utils.py:384: The name tf.executing_eagerly_outside_functions is deprecated. Please use tf.compat.v1.executing_eagerly_outside_functions instead.\n",
      "\n"
     ]
    },
    {
     "data": {
      "text/plain": [
       "<keras.src.callbacks.History at 0x1bef82c8b50>"
      ]
     },
     "execution_count": 16,
     "metadata": {},
     "output_type": "execute_result"
    }
   ],
   "source": [
    "model.fit(x, y, epochs=50, verbose=0)"
   ]
  },
  {
   "cell_type": "code",
   "execution_count": 17,
   "metadata": {},
   "outputs": [
    {
     "name": "stdout",
     "output_type": "stream",
     "text": [
      "1/1 [==============================] - 1s 1s/step - loss: 0.6332 - accuracy: 0.9000\n"
     ]
    }
   ],
   "source": [
    "loss, accuracy = model.evaluate(x, y)"
   ]
  },
  {
   "cell_type": "code",
   "execution_count": 18,
   "metadata": {},
   "outputs": [
    {
     "data": {
      "text/plain": [
       "0.8999999761581421"
      ]
     },
     "execution_count": 18,
     "metadata": {},
     "output_type": "execute_result"
    }
   ],
   "source": [
    "accuracy"
   ]
  },
  {
   "cell_type": "code",
   "execution_count": 19,
   "metadata": {},
   "outputs": [],
   "source": [
    "weights = model.get_layer('embedding').get_weights()[0]"
   ]
  },
  {
   "cell_type": "code",
   "execution_count": 20,
   "metadata": {},
   "outputs": [
    {
     "data": {
      "text/plain": [
       "array([[ 1.50446827e-02, -3.96899395e-02,  7.55348289e-03,\n",
       "        -9.43976790e-02, -2.33411673e-03],\n",
       "       [-5.78127950e-02, -2.92154029e-03,  7.31029287e-02,\n",
       "         5.63453976e-03, -7.50514045e-02],\n",
       "       [-1.31629221e-02,  3.31129469e-02,  4.71487530e-02,\n",
       "        -3.66060734e-02, -2.72474177e-02],\n",
       "       [-5.26199490e-03,  8.49274546e-03,  2.03482062e-03,\n",
       "        -8.51773098e-03,  1.49309970e-02],\n",
       "       [-2.26500873e-02,  2.64524110e-02, -2.26837527e-02,\n",
       "        -3.51714268e-02, -3.64194885e-02],\n",
       "       [ 2.03627683e-02,  3.11386846e-02,  3.82623784e-02,\n",
       "         3.42838503e-02, -3.58559713e-02],\n",
       "       [-4.20011282e-02, -9.04981047e-03,  2.57119201e-02,\n",
       "        -4.54371236e-02, -1.75244436e-02],\n",
       "       [-2.14956254e-02, -1.26669025e-02,  2.31095925e-02,\n",
       "         2.46115550e-02, -3.28228697e-02],\n",
       "       [ 5.66613302e-02, -5.60616329e-02,  9.68558900e-03,\n",
       "        -8.66586808e-03, -2.05233749e-02],\n",
       "       [-5.38969086e-03,  7.99840540e-02,  6.67348430e-02,\n",
       "        -9.04040113e-02, -5.33320270e-02],\n",
       "       [-2.78861057e-02,  3.72183807e-02,  3.02578844e-02,\n",
       "         2.88536586e-02,  1.16694719e-04],\n",
       "       [-1.61043778e-02,  4.12140600e-02,  4.44268920e-02,\n",
       "         1.01626627e-02, -3.68626937e-02],\n",
       "       [ 1.72718801e-02,  8.24518129e-03,  2.72211097e-02,\n",
       "        -1.51693597e-02,  2.36409940e-02],\n",
       "       [-4.93065268e-03,  1.12839714e-02,  2.09479965e-02,\n",
       "         1.24779232e-02,  1.31925605e-02],\n",
       "       [ 4.96325009e-02, -4.20839712e-03, -2.54043583e-02,\n",
       "        -8.59003142e-03,  2.48069651e-02],\n",
       "       [-8.84314626e-02, -2.14114562e-02, -6.59101605e-02,\n",
       "         2.45878138e-02, -5.34272008e-02],\n",
       "       [-4.54888120e-02,  2.01281197e-02, -2.51356717e-02,\n",
       "         8.90706852e-03,  3.97708155e-02],\n",
       "       [-2.25722715e-02,  1.72752589e-02, -7.59844482e-02,\n",
       "         4.30010855e-02,  7.58104846e-02],\n",
       "       [ 7.41920155e-03,  3.66418548e-02,  7.72643164e-02,\n",
       "        -1.97327975e-03, -1.59931742e-02],\n",
       "       [ 1.42479956e-03,  4.77436520e-02,  5.11439443e-02,\n",
       "        -5.24243526e-02, -4.62684520e-02],\n",
       "       [-8.72790115e-05,  1.42167304e-02,  4.02879305e-02,\n",
       "        -7.60119706e-02, -6.00590259e-02],\n",
       "       [ 1.13770808e-03,  2.57747732e-02, -9.70627293e-02,\n",
       "         2.52341740e-02,  3.73728536e-02],\n",
       "       [ 3.06132920e-02,  7.50505701e-02, -4.61560823e-02,\n",
       "        -6.14232495e-02,  4.61516567e-02],\n",
       "       [-1.30568584e-02, -7.02492595e-02,  9.91784856e-02,\n",
       "         4.31092549e-03, -8.87042731e-02],\n",
       "       [ 6.25158078e-04,  9.49512050e-02, -8.82501230e-02,\n",
       "        -7.52068534e-02,  8.19569677e-02],\n",
       "       [ 1.69513561e-02,  1.29326023e-02, -6.66284561e-03,\n",
       "        -1.83384307e-02,  3.54342721e-02],\n",
       "       [-8.88304785e-03,  3.56474407e-02, -4.46638130e-02,\n",
       "        -2.27272511e-03,  2.11412646e-02],\n",
       "       [-4.64147888e-04,  7.04144686e-02, -9.17140320e-02,\n",
       "        -2.89831031e-02,  6.41473308e-02],\n",
       "       [-3.42603922e-02, -3.75456698e-02, -9.27882269e-03,\n",
       "         3.50828655e-02,  5.98511845e-03],\n",
       "       [ 6.30310923e-03,  3.99796478e-02,  4.88019250e-02,\n",
       "         2.67091431e-02, -4.91162390e-03]], dtype=float32)"
      ]
     },
     "execution_count": 20,
     "metadata": {},
     "output_type": "execute_result"
    }
   ],
   "source": [
    "weights"
   ]
  },
  {
   "cell_type": "code",
   "execution_count": 21,
   "metadata": {},
   "outputs": [
    {
     "data": {
      "text/plain": [
       "30"
      ]
     },
     "execution_count": 21,
     "metadata": {},
     "output_type": "execute_result"
    }
   ],
   "source": [
    "len(weights)"
   ]
  },
  {
   "cell_type": "code",
   "execution_count": null,
   "metadata": {},
   "outputs": [],
   "source": []
  }
 ],
 "metadata": {
  "kernelspec": {
   "display_name": "Python 3 (ipykernel)",
   "language": "python",
   "name": "python3"
  },
  "language_info": {
   "codemirror_mode": {
    "name": "ipython",
    "version": 3
   },
   "file_extension": ".py",
   "mimetype": "text/x-python",
   "name": "python",
   "nbconvert_exporter": "python",
   "pygments_lexer": "ipython3",
   "version": "3.12.2"
  }
 },
 "nbformat": 4,
 "nbformat_minor": 4
}
