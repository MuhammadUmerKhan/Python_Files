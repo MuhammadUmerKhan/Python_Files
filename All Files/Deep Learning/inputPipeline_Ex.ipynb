{
 "cells": [
  {
   "cell_type": "code",
   "execution_count": 3,
   "metadata": {},
   "outputs": [
    {
     "ename": "ModuleNotFoundError",
     "evalue": "No module named 'tensorflow'",
     "output_type": "error",
     "traceback": [
      "\u001b[1;31m---------------------------------------------------------------------------\u001b[0m",
      "\u001b[1;31mModuleNotFoundError\u001b[0m                       Traceback (most recent call last)",
      "Cell \u001b[1;32mIn[3], line 1\u001b[0m\n\u001b[1;32m----> 1\u001b[0m \u001b[38;5;28;01mimport\u001b[39;00m \u001b[38;5;21;01mtensorflow\u001b[39;00m \u001b[38;5;28;01mas\u001b[39;00m \u001b[38;5;21;01mtf\u001b[39;00m\n\u001b[0;32m      2\u001b[0m \u001b[38;5;28;01mimport\u001b[39;00m \u001b[38;5;21;01mos\u001b[39;00m\n",
      "\u001b[1;31mModuleNotFoundError\u001b[0m: No module named 'tensorflow'"
     ]
    }
   ],
   "source": [
    "import tensorflow as tf\n",
    "import os"
   ]
  },
  {
   "cell_type": "code",
   "execution_count": 2,
   "metadata": {},
   "outputs": [],
   "source": [
    "text_ds = tf.data.Dataset.list_files('reviews/*/*', shuffle=False)"
   ]
  },
  {
   "cell_type": "code",
   "execution_count": 3,
   "metadata": {},
   "outputs": [
    {
     "data": {
      "text/plain": [
       "6"
      ]
     },
     "execution_count": 3,
     "metadata": {},
     "output_type": "execute_result"
    }
   ],
   "source": [
    "text_count = len(text_ds)\n",
    "text_count"
   ]
  },
  {
   "cell_type": "code",
   "execution_count": 4,
   "metadata": {},
   "outputs": [
    {
     "data": {
      "text/plain": [
       "tensorflow.python.data.ops.from_tensor_slices_op._TensorSliceDataset"
      ]
     },
     "execution_count": 4,
     "metadata": {},
     "output_type": "execute_result"
    }
   ],
   "source": [
    "type(text_ds)"
   ]
  },
  {
   "cell_type": "code",
   "execution_count": 5,
   "metadata": {},
   "outputs": [
    {
     "name": "stdout",
     "output_type": "stream",
     "text": [
      "b'reviews\\\\negative\\\\neg_1.txt'\n",
      "b'reviews\\\\negative\\\\neg_2.txt'\n",
      "b'reviews\\\\negative\\\\neg_3.txt'\n"
     ]
    }
   ],
   "source": [
    "for file in text_ds.take(3):\n",
    "    print(file.numpy())"
   ]
  },
  {
   "cell_type": "code",
   "execution_count": 16,
   "metadata": {},
   "outputs": [],
   "source": [
    "\n",
    "import os\n",
    "def extract_review_and_label(file_path):\n",
    "    return tf.io.read_file(file_path), tf.strings.split(file_path, os.path.sep)[-2]"
   ]
  },
  {
   "cell_type": "code",
   "execution_count": 17,
   "metadata": {},
   "outputs": [
    {
     "data": {
      "text/plain": [
       "(<tf.Tensor: shape=(), dtype=string, numpy=b\"Basically there's a family where a little boy (Jake) thinks there's a zombie in his closet & his parents are fighting all the time.<br /><br />This movie is slower than a soap opera... and suddenly, Jake decides to become Rambo and kill the zombie.<br /><br />OK, first of all when you're going to make a film you must Decide if its a thriller or a drama! As a drama the movie is watchable. Parents are divorcing & arguing like in real life. And then we have Jake with his closet which totally ruins all the film! I expected to see a BOOGEYMAN similar movie, and instead i watched a drama with some meaningless thriller spots.<br /><br />3 out of 10 just for the well playing parents & descent dialogs. As for the shots with Jake: just ignore them.\\n\">,\n",
       " <tf.Tensor: shape=(), dtype=string, numpy=b'negative'>)"
      ]
     },
     "execution_count": 17,
     "metadata": {},
     "output_type": "execute_result"
    }
   ],
   "source": [
    "extract_review_and_label(\"reviews\\\\negative\\\\neg_1.txt\")"
   ]
  },
  {
   "cell_type": "code",
   "execution_count": 18,
   "metadata": {},
   "outputs": [],
   "source": [
    "text_ds_1 = text_ds.map(extract_review_and_label)"
   ]
  },
  {
   "cell_type": "code",
   "execution_count": 19,
   "metadata": {},
   "outputs": [
    {
     "name": "stdout",
     "output_type": "stream",
     "text": [
      "Review:  b\"Basically there's a family where a little boy (Jak\"\n",
      "Label:  b'negative'\n",
      "Review:  b'This show was an amazing, fresh & innovative idea '\n",
      "Label:  b'negative'\n",
      "Review:  b''\n",
      "Label:  b'negative'\n",
      "Review:  b'One of the other reviewers has mentioned that afte'\n",
      "Label:  b'positive'\n",
      "Review:  b'A wonderful little production. <br /><br />The fil'\n",
      "Label:  b'positive'\n",
      "Review:  b''\n",
      "Label:  b'positive'\n"
     ]
    }
   ],
   "source": [
    "for review, label in text_ds_1:\n",
    "    print(\"Review: \",review.numpy()[:50])\n",
    "    print(\"Label: \",label.numpy())"
   ]
  },
  {
   "cell_type": "markdown",
   "metadata": {},
   "source": [
    "### Filter blank reviews"
   ]
  },
  {
   "cell_type": "code",
   "execution_count": 22,
   "metadata": {},
   "outputs": [
    {
     "name": "stdout",
     "output_type": "stream",
     "text": [
      "Review:  b\"Basically there's a family where a little boy (Jak\"\n",
      "Label:  b'negative'\n",
      "Review:  b'This show was an amazing, fresh & innovative idea '\n",
      "Label:  b'negative'\n",
      "Review:  b'One of the other reviewers has mentioned that afte'\n",
      "Label:  b'positive'\n",
      "Review:  b'A wonderful little production. <br /><br />The fil'\n",
      "Label:  b'positive'\n"
     ]
    }
   ],
   "source": [
    "text_ds_2 = text_ds_1.filter(lambda review, label: review!=\"\")\n",
    "for review, label in text_ds_2.as_numpy_iterator():\n",
    "    print(\"Review: \", review[:50])\n",
    "    print(\"Label: \", label)"
   ]
  },
  {
   "cell_type": "markdown",
   "metadata": {},
   "source": [
    "### Perform map, filter and shuffle all in single line of code"
   ]
  },
  {
   "cell_type": "code",
   "execution_count": 23,
   "metadata": {},
   "outputs": [
    {
     "name": "stdout",
     "output_type": "stream",
     "text": [
      "Review:  b\"Basically there's a family where a little boy (Jak\"\n",
      "Label:  b'negative'\n",
      "Review:  b'This show was an amazing, fresh & innovative idea '\n",
      "Label:  b'negative'\n",
      "Review:  b'One of the other reviewers has mentioned that afte'\n",
      "Label:  b'positive'\n",
      "Review:  b'A wonderful little production. <br /><br />The fil'\n",
      "Label:  b'positive'\n"
     ]
    }
   ],
   "source": [
    "final_ds = text_ds.map(extract_review_and_label).filter(lambda review, label: review!=\"\").shuffle(3)\n",
    "for review, label in text_ds_2.as_numpy_iterator():\n",
    "    print(\"Review: \", review[:50])\n",
    "    print(\"Label: \", label)"
   ]
  },
  {
   "cell_type": "code",
   "execution_count": 2,
   "metadata": {},
   "outputs": [
    {
     "name": "stdout",
     "output_type": "stream",
     "text": [
      "Hello\n"
     ]
    }
   ],
   "source": [
    "print(\"Hello\")"
   ]
  },
  {
   "cell_type": "code",
   "execution_count": null,
   "metadata": {},
   "outputs": [],
   "source": []
  }
 ],
 "metadata": {
  "kernelspec": {
   "display_name": ".venv",
   "language": "python",
   "name": "python3"
  },
  "language_info": {
   "codemirror_mode": {
    "name": "ipython",
    "version": 3
   },
   "file_extension": ".py",
   "mimetype": "text/x-python",
   "name": "python",
   "nbconvert_exporter": "python",
   "pygments_lexer": "ipython3",
   "version": "3.12.2"
  }
 },
 "nbformat": 4,
 "nbformat_minor": 2
}
